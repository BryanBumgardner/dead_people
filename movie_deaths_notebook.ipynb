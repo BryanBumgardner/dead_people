{
 "cells": [
  {
   "cell_type": "markdown",
   "metadata": {},
   "source": [
    "# I See Dead People: An Analysis"
   ]
  },
  {
   "cell_type": "markdown",
   "metadata": {},
   "source": [
    "Bryan Bumgardner, Data Scientist  \n",
    "February - March 2016"
   ]
  },
  {
   "cell_type": "markdown",
   "metadata": {},
   "source": [
    "### Death is a fact of life.   \n",
    "That being said, it's worth studying how it fits in our popular culture. During the Metis Data Science bootcamp (shameless plug), while working on another project I discovered bodycounters.com[http://www.bodycounters.com/]. The dedicated volunteers at this site count and categorize the number of deaths in movies, and to date, have counted for over 2,000 movies. Go grab some beers, count the dead people in your favorite movie, and contribute to the site. \n",
    "\n",
    "The data are sitting on their site for anyone to see, and it gave me an idea. I reached out to the site and had some correspondence with Dana, who was gracious enough to share a CSV of all the data. I then cross referenced this data with information from another site, thenumbers.com, which shares basic budget and financial information about thousands of movies. I took this data, mashed it together, and asked some questions. \n",
    "\n",
    "Thanks again to the volunteers at bodycounters. Y'all are the greatest. Below is a quick data science passion project to analyze and find patterns in this great data you've collected. "
   ]
  },
  {
   "cell_type": "markdown",
   "metadata": {},
   "source": [
    "### Major questions:\n",
    "1. Is the amount of on-screen deaths going up in modern movies?\n",
    "\n",
    "2. Does a movie's death count have an effect on that movie's domestic gross?\n",
    "3. How does budget factor into a movie's death count?\n",
    "4. Is there a relationship between the movie's MPAA rating and body count?\n",
    "5. What about death count and genre?\n"
   ]
  },
  {
   "cell_type": "markdown",
   "metadata": {},
   "source": [
    "### Table of Contents:\n",
    "1. Reading and combining the data\n",
    "2. Outputting various data frames\n",
    "3. Visualizing\n",
    "4. Conclusions\n",
    "5. Documentation of the data"
   ]
  },
  {
   "cell_type": "code",
   "execution_count": 1,
   "metadata": {
    "collapsed": false
   },
   "outputs": [],
   "source": [
    "import pandas as pd \n",
    "import numpy as np\n",
    "import csv\n",
    "import os\n",
    "from datetime import datetime\n",
    "from future.builtins import next\n",
    "import re\n",
    "import logging\n",
    "import optparse\n",
    "\n",
    "from difflib import SequenceMatcher\n",
    "\n",
    "import statsmodels.api as sm\n",
    "import statsmodels.formula.api as smf\n",
    "\n",
    "from sklearn.linear_model import LinearRegression \n",
    "from patsy import dmatrices\n",
    "\n",
    "import matplotlib.pyplot as plt\n",
    "import matplotlib as mpl\n",
    "import seaborn as sns\n",
    "\n",
    "%matplotlib inline\n",
    "sns.set(color_codes=True)"
   ]
  },
  {
   "cell_type": "markdown",
   "metadata": {},
   "source": [
    "### Step 1: read in and clean the data"
   ]
  },
  {
   "cell_type": "markdown",
   "metadata": {},
   "source": [
    "Deaths data is a csv, provided by the wonderful folks at BodyCounters. "
   ]
  },
  {
   "cell_type": "code",
   "execution_count": 4,
   "metadata": {
    "collapsed": false
   },
   "outputs": [
    {
     "name": "stderr",
     "output_type": "stream",
     "text": [
      "/Users/bryanbumgardner/anaconda/lib/python3.5/site-packages/ipykernel/__main__.py:9: FutureWarning: sort(columns=....) is deprecated, use sort_values(by=.....)\n"
     ]
    }
   ],
   "source": [
    "deaths = pd.read_csv(\"data/moviesmovies.csv\", encoding=\"latin-1\", index_col=\"movieskey\") #might as well make use of their key\n",
    "\n",
    "deaths[\"moviename\"] = deaths[\"moviename\"].str.rstrip(\"\\t\").str.lower() #cleaning some trailing spaces and standardizing for the matching\n",
    "deaths[\"deathcomment\"] = deaths[\"deathcomment\"].str.rstrip(\"\\t\")\n",
    "deaths[\"moviename\"] = deaths[\"moviename\"].str.replace(\".\", '')\n",
    "deaths[\"moviename\"] = deaths[\"moviename\"].str.replace(\",\", '')\n",
    "deaths[\"moviename\"] = deaths[\"moviename\"].str.replace(\"/\", '')\n",
    "deaths[\"moviename\"] = deaths[\"moviename\"].str.replace(\"'\", '')\n",
    "deaths = deaths.sort(columns=\"moviename\") #it will match faster if we sort these in alphabetical order\n",
    "\n",
    "deaths.to_csv(\"deathscleaned.csv\", encoding='utf-8')"
   ]
  },
  {
   "cell_type": "markdown",
   "metadata": {},
   "source": [
    "Let's scrape all the movie data - EVER - because we are crazy. And also because I'm not interested in paying for access to their database. \n",
    "\n",
    "So what you see below is me scraping all the budgets and domestic box offices for every movie in the alphabetized database. Every letter has a chart with all the movies starting with that letter. I downloaded each webpage from the data source as an HTML webpage then pulled the charts from that, which is less likely to get you banned than hitting up their site with Selenium.\n",
    "\n",
    "I then mashed the charts together into one GIANT dataframe which will be helpful for record linkage. This needs properly cleaned as well."
   ]
  },
  {
   "cell_type": "code",
   "execution_count": 5,
   "metadata": {
    "collapsed": false
   },
   "outputs": [],
   "source": [
    "path = 'movie_pages/' #where the HTML files are\n",
    "listing = os.listdir(path) #read the pages from the directory\n",
    "all_movie_data = pd.DataFrame(columns = ['Release Date', 'Movie', 'Genre', 'ProductionBudget','DomesticBox Officeto Date', 'Trailer'])\n",
    "# empty dataframe waiting for all the goodies\n",
    "\n",
    "for i, infile in enumerate(listing): #iterate through the files in the directory 'path'\n",
    "    temp_list = pd.read_html(\"movie_pages/\"+infile, header=0) #THANK YOU BASED PANDAS. Cleans HTML away and pulls out just the tables.\n",
    "    temp_frame = pd.DataFrame(temp_list[0]) #temp_list is a list of dataframes. Take the first (and only) one\n",
    "    all_movie_data = all_movie_data.append(temp_frame) #append this to the master dataframe \n",
    "    \n",
    "del all_movie_data['Trailer'] #not necessary and screwed up the dropna\n",
    "\n",
    "all_movie_data.rename(columns = {'DomesticBox Officeto Date': 'BoxOffice'}, inplace = True)\n",
    "all_movie_data = all_movie_data.dropna() #drop unneccessary lines with incomplete data"
   ]
  },
  {
   "cell_type": "code",
   "execution_count": 6,
   "metadata": {
    "collapsed": true
   },
   "outputs": [],
   "source": [
    "label_movie_data = all_movie_data #Save this just in case. Might try and do something with the labels, and this has the un-cleaned labels. "
   ]
  },
  {
   "cell_type": "code",
   "execution_count": 8,
   "metadata": {
    "collapsed": false
   },
   "outputs": [
    {
     "name": "stderr",
     "output_type": "stream",
     "text": [
      "/Users/bryanbumgardner/anaconda/lib/python3.5/site-packages/ipykernel/__main__.py:18: FutureWarning: sort(columns=....) is deprecated, use sort_values(by=.....)\n"
     ]
    }
   ],
   "source": [
    "all_movie_data = all_movie_data[all_movie_data.BoxOffice != \"$0\"]\n",
    "all_movie_data = all_movie_data[all_movie_data.ProductionBudget != \"$0\"]\n",
    "# remove all with $0 (I don't know those values got recorded? Negligence on the site, I think.)\n",
    "\n",
    "#Formatting all the data so it's actually useful and easier to sum, average, and categorize, along with effective timestamps. \n",
    "\n",
    "all_movie_data[\"Movie\"] = all_movie_data[\"Movie\"].str.lower()\n",
    "all_movie_data[\"Movie\"] = all_movie_data[\"Movie\"].str.replace(\".\", '')\n",
    "all_movie_data[\"Movie\"] = all_movie_data[\"Movie\"].str.replace(\",\", '')\n",
    "all_movie_data[\"Movie\"] = all_movie_data[\"Movie\"].str.replace(\")\", '')\n",
    "all_movie_data[\"Movie\"] = all_movie_data[\"Movie\"].str.replace(\"'\", '')\n",
    "all_movie_data[\"Movie\"] = all_movie_data[\"Movie\"].str.replace(\"(\", '')\n",
    "all_movie_data[\"Genre\"] = all_movie_data[\"Genre\"].str.lower()\n",
    "all_movie_data[\"ProductionBudget\"] = all_movie_data[\"ProductionBudget\"].str.strip('$')\n",
    "all_movie_data[\"ProductionBudget\"] = all_movie_data[\"ProductionBudget\"].str.replace(\",\", '')\n",
    "all_movie_data[\"BoxOffice\"] = all_movie_data[\"BoxOffice\"].str.strip('$')\n",
    "all_movie_data[\"BoxOffice\"] = all_movie_data[\"BoxOffice\"].str.replace(\",\", '')\n",
    "all_movie_data = all_movie_data.sort(columns=\"Movie\")\n"
   ]
  },
  {
   "cell_type": "code",
   "execution_count": null,
   "metadata": {
    "collapsed": false
   },
   "outputs": [],
   "source": []
  },
  {
   "cell_type": "code",
   "execution_count": 12,
   "metadata": {
    "collapsed": false
   },
   "outputs": [],
   "source": [
    "all_movie_data[\"Release Date\"] = pd.to_datetime(all_movie_data[\"Release Date\"], format='%b %d, %Y')\n",
    "# pulled this out to try and identify where my data was getting corrupted\n",
    "all_movie_data.to_csv(\"all_movie_data.csv\", encoding='utf-8')\n",
    "# exporting the clean CSV for record linkage"
   ]
  },
  {
   "cell_type": "markdown",
   "metadata": {
    "collapsed": true
   },
   "source": [
    "Ok so I'm really lazy and looked into how well these would match with Excel. Turns out the data is filthy and won't match well at all. There are extreme inconsistencies in movie names from both datasets. So I'll have to do fuzzy matching."
   ]
  },
  {
   "cell_type": "markdown",
   "metadata": {
    "collapsed": false
   },
   "source": [
    "### Step 2. Combine the data using record linkage"
   ]
  },
  {
   "cell_type": "markdown",
   "metadata": {},
   "source": [
    "So the Pandas dataframe-compatible record linkage package, recordlinkage, is turned off right now. I'm still trying to learn how to do this with something called FuzzyWuzzy, which is what you see below.\n",
    "\n",
    "However, I used OpenRefine to connect the datasets outside of Python, then I'm reading it back into here as a CSV. This was much faster but doesn't scale well, so a true Python script is needed long term.\n",
    "\n",
    "I did the quick cleaning by using OpenRefine's built-in matching powers mixed with this great fuzzy string reading service that emphasizes reconciliation:\n",
    "http://okfnlabs.org/reconcile-csv/"
   ]
  },
  {
   "cell_type": "code",
   "execution_count": null,
   "metadata": {
    "collapsed": false
   },
   "outputs": [],
   "source": [
    "\"\"\"#preparing the target dataframe\n",
    "merged_movie_data = pd.DataFrame(columns = ['Movie', 'ReleaseDate', 'Genre', 'ProductionBudget', 'BoxOffice', 'DeathCount'])\n",
    "test_dataframe = pd.DataFrame(columns = ['name_ratio', 'name_token_sort_ratio', 'name_partial_ratio', 'match'])\n",
    "test_death_count = deaths[:100]\n",
    "test_movie_data = all_movie_data[:100] #gonna see how this works\n",
    "\"\"\"\n",
    "\n",
    "#This is all under construction!!"
   ]
  },
  {
   "cell_type": "code",
   "execution_count": null,
   "metadata": {
    "collapsed": false
   },
   "outputs": [],
   "source": [
    "\"\"\"for row in test_movie_data.iterrows():\n",
    "    current_movie_name = test_movie_data[\"Movie\"]\n",
    "    \n",
    "    \n",
    "        for row2 in test_death_count.iterrows():\n",
    "            second_movie_name = test_death_count[\"moviename\"]\n",
    "            second_movie_death_count = test_death_count[\"deathcount\"]\n",
    "            \n",
    "            \n",
    "    m = SequenceMatcher(None, current_movie_name, second_movie_name)\n",
    "    if m.ratio() > 96:\n",
    "        test_movie_data[\"DeathCount\"] = test_movie_data[\"DeathCount\"].append(second_movie_death_count)\n",
    "        \n",
    "        test_death_count.iterrows()\n",
    "row = next(test_death_count.iterrows())\n",
    "\n",
    "def send_back_first_title(test_movie_data)\n",
    "    for row in test_movie_data.iterrows():\n",
    "        current_movie_name = test_movie_data[\"Movie\"]\"\"\"\n",
    "\n",
    "# Skip past this! "
   ]
  },
  {
   "cell_type": "markdown",
   "metadata": {},
   "source": [
    "# XTREME VIOLENCE ALERT\n",
    "I discovered the dataset contained LOTS of speculation, guesstimations of body counts on exploded planets, in destroyed spaceships, etc. Many movies had upwards of 1 billion deaths. Knowing this data isn't representative of personal, on-screen images of death, I removed all movies with more than 100,000 recorded deaths. Just in case, I kept the outliers in a second frame, as I noticed many of them were high-budget blockbusters - that could be relevant."
   ]
  },
  {
   "cell_type": "code",
   "execution_count": 113,
   "metadata": {
    "collapsed": false
   },
   "outputs": [],
   "source": [
    "final_data_frame_minus_outliers = pd.read_csv(\"finalcleaneddata.csv\", encoding=\"latin-1\") #no outliers\n",
    "final_data_frame_complete = pd.read_csv(\"untouchedfinaldata.csv\", encoding=\"latin-1\") #with outliers"
   ]
  },
  {
   "cell_type": "code",
   "execution_count": 114,
   "metadata": {
    "collapsed": false
   },
   "outputs": [],
   "source": [
    "final_data_frame_minus_outliers = final_data_frame_minus_outliers.dropna() # In the pairing process, we had some movies with missing values\n",
    "final_data_frame_complete = final_data_frame_complete.dropna()\n",
    "\n",
    "final_data_frame_minus_outliers = final_data_frame_minus_outliers.drop(\"index\", 1)\n",
    "final_data_frame_complete = final_data_frame_complete.drop(\"index\", 1)\n",
    "#drop some extra stuff that was only useful during linkage. \n",
    "\n",
    "final_data_frame_minus_outliers[\"ReleaseDate\"] = pd.to_datetime(final_data_frame_minus_outliers[\"ReleaseDate\"], format=\"%m/%d/%Y\")\n",
    "final_data_frame_complete[\"ReleaseDate\"] = pd.to_datetime(final_data_frame_complete[\"ReleaseDate\"], format=\"%m/%d/%Y\")\n",
    "#fitting to my required datetime needs"
   ]
  },
  {
   "cell_type": "code",
   "execution_count": 126,
   "metadata": {
    "collapsed": false
   },
   "outputs": [
    {
     "data": {
      "text/plain": [
       "1040"
      ]
     },
     "execution_count": 126,
     "metadata": {},
     "output_type": "execute_result"
    }
   ],
   "source": [
    "pd.options.display.max_rows = 1050 #change this if you ever need to explore the data\n",
    "len(final_data_frame_minus_outliers) #so 1040 movies minus the outliers. "
   ]
  },
  {
   "cell_type": "code",
   "execution_count": 116,
   "metadata": {
    "collapsed": false
   },
   "outputs": [
    {
     "data": {
      "text/plain": [
       "1060"
      ]
     },
     "execution_count": 116,
     "metadata": {},
     "output_type": "execute_result"
    }
   ],
   "source": [
    "len(final_data_frame_complete) #count of all movies."
   ]
  },
  {
   "cell_type": "code",
   "execution_count": 117,
   "metadata": {
    "collapsed": false
   },
   "outputs": [
    {
     "data": {
      "text/html": [
       "<div>\n",
       "<table border=\"1\" class=\"dataframe\">\n",
       "  <thead>\n",
       "    <tr style=\"text-align: right;\">\n",
       "      <th></th>\n",
       "      <th>moviename</th>\n",
       "      <th>BoxOffice</th>\n",
       "      <th>ProductionBudget</th>\n",
       "      <th>Genre</th>\n",
       "      <th>ReleaseDate</th>\n",
       "      <th>deathcount</th>\n",
       "      <th>deathcomment</th>\n",
       "    </tr>\n",
       "  </thead>\n",
       "  <tbody>\n",
       "    <tr>\n",
       "      <th>4</th>\n",
       "      <td>13 going on 30</td>\n",
       "      <td>57139723</td>\n",
       "      <td>30000000</td>\n",
       "      <td>comedy</td>\n",
       "      <td>2004-04-23</td>\n",
       "      <td>0</td>\n",
       "      <td>0</td>\n",
       "    </tr>\n",
       "  </tbody>\n",
       "</table>\n",
       "</div>"
      ],
      "text/plain": [
       "        moviename  BoxOffice  ProductionBudget   Genre ReleaseDate  \\\n",
       "4  13 going on 30   57139723          30000000  comedy  2004-04-23   \n",
       "\n",
       "   deathcount deathcomment  \n",
       "4           0            0  "
      ]
     },
     "execution_count": 117,
     "metadata": {},
     "output_type": "execute_result"
    }
   ],
   "source": [
    "final_data_frame_complete.head(1)"
   ]
  },
  {
   "cell_type": "markdown",
   "metadata": {},
   "source": [
    "So we have all our stuff and some extra fun comments that will be interesting during visualization. Only twenty movies were removed during the outlier cleaning. "
   ]
  },
  {
   "cell_type": "markdown",
   "metadata": {},
   "source": [
    "### Step 3: Statistical Analysis\n",
    "Now that we have the data, let's revisit the questions we asked and find the best models to answer them."
   ]
  },
  {
   "cell_type": "markdown",
   "metadata": {},
   "source": [
    "#### Is the amount of on-screen deaths going up in modern movies?   \n",
    "Technique to solve this: create an average of deaths per year in movies. I discovered the dataset contained LOTS of speculation, guesstimations of body counts on exploded planets, in destroyed spaceships, etc. Knowing this data isn't representative of personal, on-screen images of death, I removed all movies with more than\n",
    "\n"
   ]
  },
  {
   "cell_type": "code",
   "execution_count": 118,
   "metadata": {
    "collapsed": false
   },
   "outputs": [],
   "source": [
    "average_deaths = final_data_frame_minus_outliers[[\"ReleaseDate\", \"deathcount\", \"Genre\"]] #taking Genre for visualization. I have a hunch..."
   ]
  },
  {
   "cell_type": "code",
   "execution_count": 119,
   "metadata": {
    "collapsed": false
   },
   "outputs": [
    {
     "name": "stderr",
     "output_type": "stream",
     "text": [
      "/Users/bryanbumgardner/anaconda/lib/python3.5/site-packages/ipykernel/__main__.py:1: SettingWithCopyWarning: \n",
      "A value is trying to be set on a copy of a slice from a DataFrame.\n",
      "Try using .loc[row_indexer,col_indexer] = value instead\n",
      "\n",
      "See the caveats in the documentation: http://pandas.pydata.org/pandas-docs/stable/indexing.html#indexing-view-versus-copy\n",
      "  if __name__ == '__main__':\n"
     ]
    }
   ],
   "source": [
    "average_deaths[\"Year\"] = average_deaths[\"ReleaseDate\"].map(lambda x: x.strftime('%Y'))\n",
    "# strip just the year from the datetime object and put it into it's own column\n",
    "# What's with this error? Debug later"
   ]
  },
  {
   "cell_type": "code",
   "execution_count": 120,
   "metadata": {
    "collapsed": false
   },
   "outputs": [
    {
     "data": {
      "text/html": [
       "<div>\n",
       "<table border=\"1\" class=\"dataframe\">\n",
       "  <thead>\n",
       "    <tr style=\"text-align: right;\">\n",
       "      <th></th>\n",
       "      <th>ReleaseDate</th>\n",
       "      <th>deathcount</th>\n",
       "      <th>Genre</th>\n",
       "      <th>Year</th>\n",
       "    </tr>\n",
       "  </thead>\n",
       "  <tbody>\n",
       "    <tr>\n",
       "      <th>30</th>\n",
       "      <td>2004-09-10</td>\n",
       "      <td>50120</td>\n",
       "      <td>horror</td>\n",
       "      <td>2004</td>\n",
       "    </tr>\n",
       "  </tbody>\n",
       "</table>\n",
       "</div>"
      ],
      "text/plain": [
       "   ReleaseDate  deathcount   Genre  Year\n",
       "30  2004-09-10       50120  horror  2004"
      ]
     },
     "execution_count": 120,
     "metadata": {},
     "output_type": "execute_result"
    }
   ],
   "source": [
    "average_deaths.head(1) #honestly, no movie names needed."
   ]
  },
  {
   "cell_type": "code",
   "execution_count": 121,
   "metadata": {
    "collapsed": false
   },
   "outputs": [
    {
     "data": {
      "text/html": [
       "<table class=\"simpletable\">\n",
       "<caption>OLS Regression Results</caption>\n",
       "<tr>\n",
       "  <th>Dep. Variable:</th>          <td>Year</td>       <th>  R-squared:         </th> <td>   0.294</td>\n",
       "</tr>\n",
       "<tr>\n",
       "  <th>Model:</th>                   <td>OLS</td>       <th>  Adj. R-squared:    </th> <td>   0.280</td>\n",
       "</tr>\n",
       "<tr>\n",
       "  <th>Method:</th>             <td>Least Squares</td>  <th>  F-statistic:       </th> <td>   22.03</td>\n",
       "</tr>\n",
       "<tr>\n",
       "  <th>Date:</th>             <td>Wed, 23 Mar 2016</td> <th>  Prob (F-statistic):</th> <td>1.93e-05</td>\n",
       "</tr>\n",
       "<tr>\n",
       "  <th>Time:</th>                 <td>15:57:59</td>     <th>  Log-Likelihood:    </th> <td> -477.34</td>\n",
       "</tr>\n",
       "<tr>\n",
       "  <th>No. Observations:</th>      <td>    54</td>      <th>  AIC:               </th> <td>   956.7</td>\n",
       "</tr>\n",
       "<tr>\n",
       "  <th>Df Residuals:</th>          <td>    53</td>      <th>  BIC:               </th> <td>   958.7</td>\n",
       "</tr>\n",
       "<tr>\n",
       "  <th>Df Model:</th>              <td>     1</td>      <th>                     </th>     <td> </td>   \n",
       "</tr>\n",
       "<tr>\n",
       "  <th>Covariance Type:</th>      <td>nonrobust</td>    <th>                     </th>     <td> </td>   \n",
       "</tr>\n",
       "</table>\n",
       "<table class=\"simpletable\">\n",
       "<tr>\n",
       "       <td></td>         <th>coef</th>     <th>std err</th>      <th>t</th>      <th>P>|t|</th> <th>[95.0% Conf. Int.]</th> \n",
       "</tr>\n",
       "<tr>\n",
       "  <th>deathcount</th> <td>    2.9519</td> <td>    0.629</td> <td>    4.694</td> <td> 0.000</td> <td>    1.690     4.213</td>\n",
       "</tr>\n",
       "</table>\n",
       "<table class=\"simpletable\">\n",
       "<tr>\n",
       "  <th>Omnibus:</th>       <td>42.151</td> <th>  Durbin-Watson:     </th> <td>   0.509</td>\n",
       "</tr>\n",
       "<tr>\n",
       "  <th>Prob(Omnibus):</th> <td> 0.000</td> <th>  Jarque-Bera (JB):  </th> <td> 117.907</td>\n",
       "</tr>\n",
       "<tr>\n",
       "  <th>Skew:</th>          <td>-2.334</td> <th>  Prob(JB):          </th> <td>2.49e-26</td>\n",
       "</tr>\n",
       "<tr>\n",
       "  <th>Kurtosis:</th>      <td> 8.534</td> <th>  Cond. No.          </th> <td>    1.00</td>\n",
       "</tr>\n",
       "</table>"
      ],
      "text/plain": [
       "<class 'statsmodels.iolib.summary.Summary'>\n",
       "\"\"\"\n",
       "                            OLS Regression Results                            \n",
       "==============================================================================\n",
       "Dep. Variable:                   Year   R-squared:                       0.294\n",
       "Model:                            OLS   Adj. R-squared:                  0.280\n",
       "Method:                 Least Squares   F-statistic:                     22.03\n",
       "Date:                Wed, 23 Mar 2016   Prob (F-statistic):           1.93e-05\n",
       "Time:                        15:57:59   Log-Likelihood:                -477.34\n",
       "No. Observations:                  54   AIC:                             956.7\n",
       "Df Residuals:                      53   BIC:                             958.7\n",
       "Df Model:                           1                                         \n",
       "Covariance Type:            nonrobust                                         \n",
       "==============================================================================\n",
       "                 coef    std err          t      P>|t|      [95.0% Conf. Int.]\n",
       "------------------------------------------------------------------------------\n",
       "deathcount     2.9519      0.629      4.694      0.000         1.690     4.213\n",
       "==============================================================================\n",
       "Omnibus:                       42.151   Durbin-Watson:                   0.509\n",
       "Prob(Omnibus):                  0.000   Jarque-Bera (JB):              117.907\n",
       "Skew:                          -2.334   Prob(JB):                     2.49e-26\n",
       "Kurtosis:                       8.534   Cond. No.                         1.00\n",
       "==============================================================================\n",
       "\n",
       "Warnings:\n",
       "[1] Standard Errors assume that the covariance matrix of the errors is correctly specified.\n",
       "\"\"\""
      ]
     },
     "execution_count": 121,
     "metadata": {},
     "output_type": "execute_result"
    }
   ],
   "source": [
    "cleaned_average_deaths = average_deaths.groupby(['Year']).mean().reset_index() #group by the year, get the mean of the deathcounts,\n",
    "# and use reset_index to move the year into it's own column instead of using it as the index. Just personal preference.\n",
    "\n",
    "x = pd.to_numeric(cleaned_average_deaths[\"Year\"]) #for modeling, these types must be numeric. Originally were floats. \n",
    "y = pd.to_numeric(cleaned_average_deaths[\"deathcount\"])\n",
    "\n",
    "model = sm.OLS(x, y) #Linear Regression with Ordinary Least Squares.\n",
    "results = model.fit()\n",
    "results.summary()"
   ]
  },
  {
   "cell_type": "code",
   "execution_count": 122,
   "metadata": {
    "collapsed": false
   },
   "outputs": [
    {
     "data": {
      "text/html": [
       "<div>\n",
       "<table border=\"1\" class=\"dataframe\">\n",
       "  <thead>\n",
       "    <tr style=\"text-align: right;\">\n",
       "      <th></th>\n",
       "      <th>Year</th>\n",
       "      <th>deathcount</th>\n",
       "    </tr>\n",
       "  </thead>\n",
       "  <tbody>\n",
       "    <tr>\n",
       "      <th>0</th>\n",
       "      <td>1939</td>\n",
       "      <td>2.000000</td>\n",
       "    </tr>\n",
       "    <tr>\n",
       "      <th>1</th>\n",
       "      <td>1942</td>\n",
       "      <td>5.000000</td>\n",
       "    </tr>\n",
       "    <tr>\n",
       "      <th>2</th>\n",
       "      <td>1951</td>\n",
       "      <td>3.000000</td>\n",
       "    </tr>\n",
       "    <tr>\n",
       "      <th>3</th>\n",
       "      <td>1963</td>\n",
       "      <td>11.000000</td>\n",
       "    </tr>\n",
       "    <tr>\n",
       "      <th>4</th>\n",
       "      <td>1964</td>\n",
       "      <td>41.500000</td>\n",
       "    </tr>\n",
       "    <tr>\n",
       "      <th>5</th>\n",
       "      <td>1965</td>\n",
       "      <td>45.000000</td>\n",
       "    </tr>\n",
       "    <tr>\n",
       "      <th>6</th>\n",
       "      <td>1967</td>\n",
       "      <td>77.000000</td>\n",
       "    </tr>\n",
       "    <tr>\n",
       "      <th>7</th>\n",
       "      <td>1968</td>\n",
       "      <td>13.500000</td>\n",
       "    </tr>\n",
       "    <tr>\n",
       "      <th>8</th>\n",
       "      <td>1969</td>\n",
       "      <td>398.666667</td>\n",
       "    </tr>\n",
       "    <tr>\n",
       "      <th>9</th>\n",
       "      <td>1971</td>\n",
       "      <td>30.666667</td>\n",
       "    </tr>\n",
       "    <tr>\n",
       "      <th>10</th>\n",
       "      <td>1972</td>\n",
       "      <td>19.000000</td>\n",
       "    </tr>\n",
       "    <tr>\n",
       "      <th>11</th>\n",
       "      <td>1973</td>\n",
       "      <td>4.000000</td>\n",
       "    </tr>\n",
       "    <tr>\n",
       "      <th>12</th>\n",
       "      <td>1974</td>\n",
       "      <td>5.000000</td>\n",
       "    </tr>\n",
       "    <tr>\n",
       "      <th>13</th>\n",
       "      <td>1975</td>\n",
       "      <td>4.666667</td>\n",
       "    </tr>\n",
       "    <tr>\n",
       "      <th>14</th>\n",
       "      <td>1976</td>\n",
       "      <td>35.500000</td>\n",
       "    </tr>\n",
       "    <tr>\n",
       "      <th>15</th>\n",
       "      <td>1977</td>\n",
       "      <td>111.000000</td>\n",
       "    </tr>\n",
       "    <tr>\n",
       "      <th>16</th>\n",
       "      <td>1978</td>\n",
       "      <td>8.000000</td>\n",
       "    </tr>\n",
       "    <tr>\n",
       "      <th>17</th>\n",
       "      <td>1979</td>\n",
       "      <td>515.600000</td>\n",
       "    </tr>\n",
       "    <tr>\n",
       "      <th>18</th>\n",
       "      <td>1980</td>\n",
       "      <td>41.857143</td>\n",
       "    </tr>\n",
       "    <tr>\n",
       "      <th>19</th>\n",
       "      <td>1981</td>\n",
       "      <td>258.714286</td>\n",
       "    </tr>\n",
       "    <tr>\n",
       "      <th>20</th>\n",
       "      <td>1982</td>\n",
       "      <td>20.750000</td>\n",
       "    </tr>\n",
       "    <tr>\n",
       "      <th>21</th>\n",
       "      <td>1983</td>\n",
       "      <td>26.833333</td>\n",
       "    </tr>\n",
       "    <tr>\n",
       "      <th>22</th>\n",
       "      <td>1984</td>\n",
       "      <td>98.727273</td>\n",
       "    </tr>\n",
       "    <tr>\n",
       "      <th>23</th>\n",
       "      <td>1985</td>\n",
       "      <td>45.166667</td>\n",
       "    </tr>\n",
       "    <tr>\n",
       "      <th>24</th>\n",
       "      <td>1986</td>\n",
       "      <td>140.000000</td>\n",
       "    </tr>\n",
       "    <tr>\n",
       "      <th>...</th>\n",
       "      <td>...</td>\n",
       "      <td>...</td>\n",
       "    </tr>\n",
       "    <tr>\n",
       "      <th>29</th>\n",
       "      <td>1991</td>\n",
       "      <td>7.400000</td>\n",
       "    </tr>\n",
       "    <tr>\n",
       "      <th>30</th>\n",
       "      <td>1992</td>\n",
       "      <td>36.666667</td>\n",
       "    </tr>\n",
       "    <tr>\n",
       "      <th>31</th>\n",
       "      <td>1993</td>\n",
       "      <td>931.090909</td>\n",
       "    </tr>\n",
       "    <tr>\n",
       "      <th>32</th>\n",
       "      <td>1994</td>\n",
       "      <td>620.933333</td>\n",
       "    </tr>\n",
       "    <tr>\n",
       "      <th>33</th>\n",
       "      <td>1995</td>\n",
       "      <td>1001.272727</td>\n",
       "    </tr>\n",
       "    <tr>\n",
       "      <th>34</th>\n",
       "      <td>1996</td>\n",
       "      <td>28.875000</td>\n",
       "    </tr>\n",
       "    <tr>\n",
       "      <th>35</th>\n",
       "      <td>1997</td>\n",
       "      <td>108.928571</td>\n",
       "    </tr>\n",
       "    <tr>\n",
       "      <th>36</th>\n",
       "      <td>1998</td>\n",
       "      <td>168.482759</td>\n",
       "    </tr>\n",
       "    <tr>\n",
       "      <th>37</th>\n",
       "      <td>1999</td>\n",
       "      <td>394.555556</td>\n",
       "    </tr>\n",
       "    <tr>\n",
       "      <th>38</th>\n",
       "      <td>2000</td>\n",
       "      <td>29.323529</td>\n",
       "    </tr>\n",
       "    <tr>\n",
       "      <th>39</th>\n",
       "      <td>2001</td>\n",
       "      <td>14.837838</td>\n",
       "    </tr>\n",
       "    <tr>\n",
       "      <th>40</th>\n",
       "      <td>2002</td>\n",
       "      <td>127.027027</td>\n",
       "    </tr>\n",
       "    <tr>\n",
       "      <th>41</th>\n",
       "      <td>2003</td>\n",
       "      <td>67.069767</td>\n",
       "    </tr>\n",
       "    <tr>\n",
       "      <th>42</th>\n",
       "      <td>2004</td>\n",
       "      <td>1518.489796</td>\n",
       "    </tr>\n",
       "    <tr>\n",
       "      <th>43</th>\n",
       "      <td>2005</td>\n",
       "      <td>76.581395</td>\n",
       "    </tr>\n",
       "    <tr>\n",
       "      <th>44</th>\n",
       "      <td>2006</td>\n",
       "      <td>703.877551</td>\n",
       "    </tr>\n",
       "    <tr>\n",
       "      <th>45</th>\n",
       "      <td>2007</td>\n",
       "      <td>647.264151</td>\n",
       "    </tr>\n",
       "    <tr>\n",
       "      <th>46</th>\n",
       "      <td>2008</td>\n",
       "      <td>89.023256</td>\n",
       "    </tr>\n",
       "    <tr>\n",
       "      <th>47</th>\n",
       "      <td>2009</td>\n",
       "      <td>237.967213</td>\n",
       "    </tr>\n",
       "    <tr>\n",
       "      <th>48</th>\n",
       "      <td>2010</td>\n",
       "      <td>46.920635</td>\n",
       "    </tr>\n",
       "    <tr>\n",
       "      <th>49</th>\n",
       "      <td>2011</td>\n",
       "      <td>81.723077</td>\n",
       "    </tr>\n",
       "    <tr>\n",
       "      <th>50</th>\n",
       "      <td>2012</td>\n",
       "      <td>200.328125</td>\n",
       "    </tr>\n",
       "    <tr>\n",
       "      <th>51</th>\n",
       "      <td>2013</td>\n",
       "      <td>791.549020</td>\n",
       "    </tr>\n",
       "    <tr>\n",
       "      <th>52</th>\n",
       "      <td>2014</td>\n",
       "      <td>382.095238</td>\n",
       "    </tr>\n",
       "    <tr>\n",
       "      <th>53</th>\n",
       "      <td>2015</td>\n",
       "      <td>10.437500</td>\n",
       "    </tr>\n",
       "  </tbody>\n",
       "</table>\n",
       "<p>54 rows × 2 columns</p>\n",
       "</div>"
      ],
      "text/plain": [
       "    Year   deathcount\n",
       "0   1939     2.000000\n",
       "1   1942     5.000000\n",
       "2   1951     3.000000\n",
       "3   1963    11.000000\n",
       "4   1964    41.500000\n",
       "5   1965    45.000000\n",
       "6   1967    77.000000\n",
       "7   1968    13.500000\n",
       "8   1969   398.666667\n",
       "9   1971    30.666667\n",
       "10  1972    19.000000\n",
       "11  1973     4.000000\n",
       "12  1974     5.000000\n",
       "13  1975     4.666667\n",
       "14  1976    35.500000\n",
       "15  1977   111.000000\n",
       "16  1978     8.000000\n",
       "17  1979   515.600000\n",
       "18  1980    41.857143\n",
       "19  1981   258.714286\n",
       "20  1982    20.750000\n",
       "21  1983    26.833333\n",
       "22  1984    98.727273\n",
       "23  1985    45.166667\n",
       "24  1986   140.000000\n",
       "..   ...          ...\n",
       "29  1991     7.400000\n",
       "30  1992    36.666667\n",
       "31  1993   931.090909\n",
       "32  1994   620.933333\n",
       "33  1995  1001.272727\n",
       "34  1996    28.875000\n",
       "35  1997   108.928571\n",
       "36  1998   168.482759\n",
       "37  1999   394.555556\n",
       "38  2000    29.323529\n",
       "39  2001    14.837838\n",
       "40  2002   127.027027\n",
       "41  2003    67.069767\n",
       "42  2004  1518.489796\n",
       "43  2005    76.581395\n",
       "44  2006   703.877551\n",
       "45  2007   647.264151\n",
       "46  2008    89.023256\n",
       "47  2009   237.967213\n",
       "48  2010    46.920635\n",
       "49  2011    81.723077\n",
       "50  2012   200.328125\n",
       "51  2013   791.549020\n",
       "52  2014   382.095238\n",
       "53  2015    10.437500\n",
       "\n",
       "[54 rows x 2 columns]"
      ]
     },
     "execution_count": 122,
     "metadata": {},
     "output_type": "execute_result"
    }
   ],
   "source": [
    "cleaned_average_deaths\n"
   ]
  },
  {
   "cell_type": "code",
   "execution_count": 124,
   "metadata": {
    "collapsed": false
   },
   "outputs": [
    {
     "data": {
      "text/plain": [
       "<matplotlib.collections.PathCollection at 0x112a17518>"
      ]
     },
     "execution_count": 124,
     "metadata": {},
     "output_type": "execute_result"
    },
    {
     "data": {
      "image/png": "[encoded data removed]",
      "text/plain": [
       "<matplotlib.figure.Figure at 0x108d878d0>"
      ]
     },
     "metadata": {},
     "output_type": "display_data"
    }
   ],
   "source": [
    "#sns.lmplot(x=\"index\", y=\"deathcount\", data=average_deaths)\n",
    "plt.scatter(x,y)"
   ]
  },
  {
   "cell_type": "code",
   "execution_count": null,
   "metadata": {
    "collapsed": false
   },
   "outputs": [],
   "source": []
  },
  {
   "cell_type": "code",
   "execution_count": null,
   "metadata": {
    "collapsed": false
   },
   "outputs": [],
   "source": []
  },
  {
   "cell_type": "code",
   "execution_count": null,
   "metadata": {
    "collapsed": false
   },
   "outputs": [],
   "source": []
  },
  {
   "cell_type": "markdown",
   "metadata": {},
   "source": [
    "#### Does a movie's death count have an effect on that movie's domestic gross?"
   ]
  },
  {
   "cell_type": "code",
   "execution_count": null,
   "metadata": {
    "collapsed": false
   },
   "outputs": [],
   "source": [
    "deaths_vs_gross = final_data_frame[[\"BoxOffice\", \"deathcount\", \"Genre\"]]"
   ]
  },
  {
   "cell_type": "code",
   "execution_count": null,
   "metadata": {
    "collapsed": false
   },
   "outputs": [],
   "source": []
  },
  {
   "cell_type": "code",
   "execution_count": null,
   "metadata": {
    "collapsed": false
   },
   "outputs": [],
   "source": []
  },
  {
   "cell_type": "markdown",
   "metadata": {},
   "source": [
    "### 5. Documentation of the data:"
   ]
  },
  {
   "cell_type": "markdown",
   "metadata": {},
   "source": [
    "Budget and financial data of movies: http://www.the-numbers.com/movie/budgets/all"
   ]
  },
  {
   "cell_type": "code",
   "execution_count": null,
   "metadata": {
    "collapsed": true
   },
   "outputs": [],
   "source": []
  },
  {
   "cell_type": "code",
   "execution_count": null,
   "metadata": {
    "collapsed": true
   },
   "outputs": [],
   "source": []
  }
 ],
 "metadata": {
  "kernelspec": {
   "display_name": "Python 3",
   "language": "python",
   "name": "python3"
  },
  "language_info": {
   "codemirror_mode": {
    "name": "ipython",
    "version": 3
   },
   "file_extension": ".py",
   "mimetype": "text/x-python",
   "name": "python",
   "nbconvert_exporter": "python",
   "pygments_lexer": "ipython3",
   "version": "3.5.1"
  }
 },
 "nbformat": 4,
 "nbformat_minor": 0
}
