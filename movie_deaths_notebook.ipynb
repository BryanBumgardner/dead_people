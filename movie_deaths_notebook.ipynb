{
 "cells": [
  {
   "cell_type": "markdown",
   "metadata": {},
   "source": [
    "# I See Dead People: An Analysis"
   ]
  },
  {
   "cell_type": "markdown",
   "metadata": {},
   "source": [
    "Bryan Bumgardner, Data Scientist  \n",
    "February - March 2016"
   ]
  },
  {
   "cell_type": "markdown",
   "metadata": {},
   "source": [
    "<img src=\"images/michaelguns.gif\">"
   ]
  },
  {
   "cell_type": "markdown",
   "metadata": {},
   "source": [
    "### We love watching violence.   \n",
    "That being said, it's worth studying how it fits in our popular culture. During the Metis Data Science bootcamp (shameless plug), while working on another project I discovered bodycounters.com[http://www.bodycounters.com/]. The dedicated volunteers at this site count and categorize the number of deaths in movies, and to date, have counted for over 2,000 movies. Go grab some beers, count the dead people in your favorite movie, and contribute to the site. \n",
    "\n",
    "The data are sitting on their site for anyone to see, and it gave me an idea. I reached out to the site and had some correspondence with Dana, who was gracious enough to share a CSV of all the data. I then cross referenced this data with information from another site, thenumbers.com, which shares basic budget and financial information about thousands of movies. I took this data, mashed it together, and asked some questions. \n",
    "\n",
    "Thanks again to the volunteers at bodycounters. Y'all are the greatest. Below is a quick data science passion project to analyze and find patterns in this great data you've collected. "
   ]
  },
  {
   "cell_type": "markdown",
   "metadata": {},
   "source": [
    "### Major questions:\n",
    "1. Is the amount of on-screen deaths going up in modern movies?\n",
    "\n",
    "2. Does a movie's death count have an effect on that movie's domestic gross?\n",
    "3. How does budget factor into a movie's death count?\n",
    "4. Is there a relationship between the movie's MPAA rating and body count?\n",
    "5. What about death count and genre?\n"
   ]
  },
  {
   "cell_type": "markdown",
   "metadata": {},
   "source": [
    "### Table of Contents:\n",
    "1. Reading and combining the data\n",
    "2. Outputting various data frames\n",
    "3. Visualizing\n",
    "4. Conclusions\n",
    "5. Documentation of the data"
   ]
  },
  {
   "cell_type": "code",
   "execution_count": 1,
   "metadata": {
    "collapsed": false
   },
   "outputs": [],
   "source": [
    "import pandas as pd \n",
    "import numpy as np\n",
    "import csv\n",
    "import os\n",
    "from datetime import datetime\n",
    "from future.builtins import next\n",
    "import re\n",
    "import logging\n",
    "import optparse\n",
    "\n",
    "from difflib import SequenceMatcher\n",
    "\n",
    "import statsmodels.api as sm\n",
    "import statsmodels.formula.api as smf\n",
    "\n",
    "from sklearn.linear_model import LinearRegression \n",
    "from patsy import dmatrices\n",
    "\n",
    "import matplotlib.pyplot as plt, mpld3\n",
    "import seaborn as sns\n",
    "\n",
    "%matplotlib inline\n",
    "sns.set(color_codes=True)"
   ]
  },
  {
   "cell_type": "markdown",
   "metadata": {},
   "source": [
    "### Step 1: read in and clean the data"
   ]
  },
  {
   "cell_type": "markdown",
   "metadata": {},
   "source": [
    "Deaths data is a csv, provided by the wonderful folks at BodyCounters. "
   ]
  },
  {
   "cell_type": "code",
   "execution_count": 2,
   "metadata": {
    "collapsed": false
   },
   "outputs": [
    {
     "name": "stderr",
     "output_type": "stream",
     "text": [
      "/Users/bryanbumgardner/anaconda/lib/python3.5/site-packages/ipykernel/__main__.py:9: FutureWarning: sort(columns=....) is deprecated, use sort_values(by=.....)\n"
     ]
    }
   ],
   "source": [
    "deaths = pd.read_csv(\"data/moviesmovies.csv\", encoding=\"latin-1\", index_col=\"movieskey\") #might as well make use of their key\n",
    "\n",
    "deaths[\"moviename\"] = deaths[\"moviename\"].str.rstrip(\"\\t\").str.lower() #cleaning some trailing spaces and standardizing for the matching\n",
    "deaths[\"deathcomment\"] = deaths[\"deathcomment\"].str.rstrip(\"\\t\")\n",
    "deaths[\"moviename\"] = deaths[\"moviename\"].str.replace(\".\", '')\n",
    "deaths[\"moviename\"] = deaths[\"moviename\"].str.replace(\",\", '')\n",
    "deaths[\"moviename\"] = deaths[\"moviename\"].str.replace(\"/\", '')\n",
    "deaths[\"moviename\"] = deaths[\"moviename\"].str.replace(\"'\", '')\n",
    "deaths = deaths.sort(columns=\"moviename\") #it will match faster if we sort these in alphabetical order\n",
    "\n",
    "deaths.to_csv(\"deathscleaned.csv\", encoding='utf-8') #sending it back out for matching later in OpenRefine"
   ]
  },
  {
   "cell_type": "markdown",
   "metadata": {},
   "source": [
    "Let's scrape all the movie data - EVER - because we are crazy. And also because I'm not interested in paying for access to their database. \n",
    "\n",
    "So what you see below is me scraping all the budgets and domestic box offices for every movie in the alphabetized database. Every letter has a chart with all the movies starting with that letter. I downloaded each webpage from the data source as an HTML webpage then pulled the charts from that, which is less likely to get you banned than hitting up their site with Selenium.\n",
    "\n",
    "I then mashed the charts together into one GIANT dataframe which will be helpful for record linkage. This needs properly cleaned as well."
   ]
  },
  {
   "cell_type": "code",
   "execution_count": 3,
   "metadata": {
    "collapsed": false
   },
   "outputs": [],
   "source": [
    "path = 'movie_pages/' #where the HTML files are\n",
    "listing = os.listdir(path) #read the pages from the directory\n",
    "all_movie_data = pd.DataFrame(columns = ['Release Date', 'Movie', 'Genre', 'ProductionBudget','DomesticBox Officeto Date', 'Trailer'])\n",
    "# empty dataframe waiting for all the goodies\n",
    "\n",
    "for i, infile in enumerate(listing): #iterate through the files in the directory 'path'\n",
    "    temp_list = pd.read_html(\"movie_pages/\"+infile, header=0) #THANK YOU BASED PANDAS. Cleans HTML away and pulls out just the tables.\n",
    "    temp_frame = pd.DataFrame(temp_list[0]) #temp_list is a list of dataframes. Take the first (and only) one\n",
    "    all_movie_data = all_movie_data.append(temp_frame) #append this to the master dataframe \n",
    "    \n",
    "del all_movie_data['Trailer'] #not necessary and screwed up the dropna\n",
    "\n",
    "all_movie_data.rename(columns = {'DomesticBox Officeto Date': 'BoxOffice'}, inplace = True)\n",
    "all_movie_data = all_movie_data.dropna() #drop unneccessary lines with incomplete data"
   ]
  },
  {
   "cell_type": "code",
   "execution_count": 4,
   "metadata": {
    "collapsed": true
   },
   "outputs": [],
   "source": [
    "label_movie_data = all_movie_data #Save this just in case. Might try and do something with the labels, and this has the un-cleaned labels. "
   ]
  },
  {
   "cell_type": "code",
   "execution_count": 5,
   "metadata": {
    "collapsed": false
   },
   "outputs": [
    {
     "name": "stderr",
     "output_type": "stream",
     "text": [
      "/Users/bryanbumgardner/anaconda/lib/python3.5/site-packages/ipykernel/__main__.py:18: FutureWarning: sort(columns=....) is deprecated, use sort_values(by=.....)\n"
     ]
    }
   ],
   "source": [
    "all_movie_data = all_movie_data[all_movie_data.BoxOffice != \"$0\"]\n",
    "all_movie_data = all_movie_data[all_movie_data.ProductionBudget != \"$0\"]\n",
    "# remove all with $0 (I don't know those values got recorded? Negligence on the site, I think.)\n",
    "\n",
    "#Formatting all the data so it's actually useful and easier to sum, average, and categorize, along with effective timestamps. \n",
    "\n",
    "all_movie_data[\"Movie\"] = all_movie_data[\"Movie\"].str.lower()\n",
    "all_movie_data[\"Movie\"] = all_movie_data[\"Movie\"].str.replace(\".\", '')\n",
    "all_movie_data[\"Movie\"] = all_movie_data[\"Movie\"].str.replace(\",\", '')\n",
    "all_movie_data[\"Movie\"] = all_movie_data[\"Movie\"].str.replace(\")\", '')\n",
    "all_movie_data[\"Movie\"] = all_movie_data[\"Movie\"].str.replace(\"'\", '') # fuck it we'll do it live. Can you clean this up?\n",
    "all_movie_data[\"Movie\"] = all_movie_data[\"Movie\"].str.replace(\"(\", '')\n",
    "all_movie_data[\"Genre\"] = all_movie_data[\"Genre\"].str.lower()\n",
    "all_movie_data[\"ProductionBudget\"] = all_movie_data[\"ProductionBudget\"].str.strip('$')\n",
    "all_movie_data[\"ProductionBudget\"] = all_movie_data[\"ProductionBudget\"].str.replace(\",\", '')\n",
    "all_movie_data[\"BoxOffice\"] = all_movie_data[\"BoxOffice\"].str.strip('$')\n",
    "all_movie_data[\"BoxOffice\"] = all_movie_data[\"BoxOffice\"].str.replace(\",\", '')\n",
    "all_movie_data = all_movie_data.sort(columns=\"Movie\")\n"
   ]
  },
  {
   "cell_type": "code",
   "execution_count": 6,
   "metadata": {
    "collapsed": false
   },
   "outputs": [],
   "source": [
    "all_movie_data[\"Release Date\"] = pd.to_datetime(all_movie_data[\"Release Date\"], format='%b %d, %Y')\n",
    "# pulled this out to try and identify where my data was getting corrupted\n",
    "all_movie_data.to_csv(\"all_movie_data.csv\", encoding='utf-8')\n",
    "# exporting the clean CSV for record linkage"
   ]
  },
  {
   "cell_type": "markdown",
   "metadata": {
    "collapsed": true
   },
   "source": [
    "Ok so I'm really lazy and looked into how well these would match with Excel. Turns out the data is filthy and won't match well at all. There are extreme inconsistencies in movie names from both datasets. So I'll have to do fuzzy matching."
   ]
  },
  {
   "cell_type": "markdown",
   "metadata": {
    "collapsed": false
   },
   "source": [
    "### Step 2. Combine the data using record linkage"
   ]
  },
  {
   "cell_type": "markdown",
   "metadata": {},
   "source": [
    "So the Pandas dataframe-compatible record linkage package, recordlinkage, is turned off right now. I'm still trying to learn how to do this with something called FuzzyWuzzy, which is what you see below.\n",
    "\n",
    "However, I used OpenRefine to connect the datasets outside of Python, then I'm reading it back into here as a CSV. This was much faster but doesn't scale well, so a true Python script is needed long term.\n",
    "\n",
    "I did the quick cleaning by using OpenRefine's built-in matching powers mixed with this great fuzzy string reading service that emphasizes reconciliation:\n",
    "http://okfnlabs.org/reconcile-csv/"
   ]
  },
  {
   "cell_type": "code",
   "execution_count": 7,
   "metadata": {
    "collapsed": false
   },
   "outputs": [
    {
     "data": {
      "text/plain": [
       "\"#preparing the target dataframe\\nmerged_movie_data = pd.DataFrame(columns = ['Movie', 'ReleaseDate', 'Genre', 'ProductionBudget', 'BoxOffice', 'DeathCount'])\\ntest_dataframe = pd.DataFrame(columns = ['name_ratio', 'name_token_sort_ratio', 'name_partial_ratio', 'match'])\\ntest_death_count = deaths[:100]\\ntest_movie_data = all_movie_data[:100] #gonna see how this works\\n\""
      ]
     },
     "execution_count": 7,
     "metadata": {},
     "output_type": "execute_result"
    }
   ],
   "source": [
    "\"\"\"#preparing the target dataframe\n",
    "merged_movie_data = pd.DataFrame(columns = ['Movie', 'ReleaseDate', 'Genre', 'ProductionBudget', 'BoxOffice', 'DeathCount'])\n",
    "test_dataframe = pd.DataFrame(columns = ['name_ratio', 'name_token_sort_ratio', 'name_partial_ratio', 'match'])\n",
    "test_death_count = deaths[:100]\n",
    "test_movie_data = all_movie_data[:100] #gonna see how this works\n",
    "\"\"\"\n",
    "\n",
    "#This is all under construction!!"
   ]
  },
  {
   "cell_type": "code",
   "execution_count": 8,
   "metadata": {
    "collapsed": false
   },
   "outputs": [
    {
     "data": {
      "text/plain": [
       "'for row in test_movie_data.iterrows():\\n    current_movie_name = test_movie_data[\"Movie\"]\\n    \\n    \\n        for row2 in test_death_count.iterrows():\\n            second_movie_name = test_death_count[\"moviename\"]\\n            second_movie_death_count = test_death_count[\"deathcount\"]\\n            \\n            \\n    m = SequenceMatcher(None, current_movie_name, second_movie_name)\\n    if m.ratio() > 96:\\n        test_movie_data[\"DeathCount\"] = test_movie_data[\"DeathCount\"].append(second_movie_death_count)\\n        \\n        test_death_count.iterrows()\\nrow = next(test_death_count.iterrows())\\n\\ndef send_back_first_title(test_movie_data)\\n    for row in test_movie_data.iterrows():\\n        current_movie_name = test_movie_data[\"Movie\"]'"
      ]
     },
     "execution_count": 8,
     "metadata": {},
     "output_type": "execute_result"
    }
   ],
   "source": [
    "\"\"\"for row in test_movie_data.iterrows():\n",
    "    current_movie_name = test_movie_data[\"Movie\"]\n",
    "    \n",
    "    \n",
    "        for row2 in test_death_count.iterrows():\n",
    "            second_movie_name = test_death_count[\"moviename\"]\n",
    "            second_movie_death_count = test_death_count[\"deathcount\"]\n",
    "            \n",
    "            \n",
    "    m = SequenceMatcher(None, current_movie_name, second_movie_name)\n",
    "    if m.ratio() > 96:\n",
    "        test_movie_data[\"DeathCount\"] = test_movie_data[\"DeathCount\"].append(second_movie_death_count)\n",
    "        \n",
    "        test_death_count.iterrows()\n",
    "row = next(test_death_count.iterrows())\n",
    "\n",
    "def send_back_first_title(test_movie_data)\n",
    "    for row in test_movie_data.iterrows():\n",
    "        current_movie_name = test_movie_data[\"Movie\"]\"\"\"\n",
    "\n",
    "# Skip past this! "
   ]
  },
  {
   "cell_type": "markdown",
   "metadata": {},
   "source": [
    "# XTREME VIOLENCE ALERT"
   ]
  },
  {
   "cell_type": "markdown",
   "metadata": {},
   "source": [
    "<img src=\"images/bloodies.gif\">"
   ]
  },
  {
   "cell_type": "markdown",
   "metadata": {},
   "source": [
    "I discovered the dataset contained LOTS of speculation, guesstimations of body counts on exploded planets, in destroyed spaceships, etc. Many movies had upwards of 1 billion deaths. Knowing this data isn't representative of personal, on-screen images of death, I removed all movies with more than 100,000 recorded deaths. Just in case, I kept the outliers in a second frame, as I noticed many of them were high-budget blockbusters - that could be relevant."
   ]
  },
  {
   "cell_type": "code",
   "execution_count": 9,
   "metadata": {
    "collapsed": false
   },
   "outputs": [],
   "source": [
    "final_data_frame_minus_outliers = pd.read_csv(\"finalcleaneddata.csv\", encoding=\"latin-1\") #no outliers\n",
    "final_data_frame_complete = pd.read_csv(\"untouchedfinaldata.csv\", encoding=\"latin-1\") #with outliers"
   ]
  },
  {
   "cell_type": "code",
   "execution_count": 10,
   "metadata": {
    "collapsed": false
   },
   "outputs": [],
   "source": [
    "final_data_frame_minus_outliers = final_data_frame_minus_outliers.dropna() # In the pairing process, we had some movies with missing values\n",
    "final_data_frame_complete = final_data_frame_complete.dropna()\n",
    "\n",
    "final_data_frame_minus_outliers = final_data_frame_minus_outliers.drop(\"index\", 1)\n",
    "final_data_frame_complete = final_data_frame_complete.drop(\"index\", 1)\n",
    "#drop some extra stuff that was only useful during linkage. \n",
    "\n",
    "final_data_frame_minus_outliers[\"ReleaseDate\"] = pd.to_datetime(final_data_frame_minus_outliers[\"ReleaseDate\"], format=\"%m/%d/%Y\")\n",
    "final_data_frame_complete[\"ReleaseDate\"] = pd.to_datetime(final_data_frame_complete[\"ReleaseDate\"], format=\"%m/%d/%Y\")\n",
    "#fitting to my required datetime needs"
   ]
  },
  {
   "cell_type": "code",
   "execution_count": 11,
   "metadata": {
    "collapsed": false
   },
   "outputs": [
    {
     "data": {
      "text/plain": [
       "1040"
      ]
     },
     "execution_count": 11,
     "metadata": {},
     "output_type": "execute_result"
    }
   ],
   "source": [
    "pd.options.display.max_rows = 1050 #change this if you ever need to explore the data\n",
    "len(final_data_frame_minus_outliers) #so 1040 movies minus the outliers. "
   ]
  },
  {
   "cell_type": "code",
   "execution_count": 12,
   "metadata": {
    "collapsed": false
   },
   "outputs": [
    {
     "data": {
      "text/plain": [
       "1060"
      ]
     },
     "execution_count": 12,
     "metadata": {},
     "output_type": "execute_result"
    }
   ],
   "source": [
    "len(final_data_frame_complete) #count of all movies."
   ]
  },
  {
   "cell_type": "code",
   "execution_count": 13,
   "metadata": {
    "collapsed": false
   },
   "outputs": [
    {
     "data": {
      "text/html": [
       "<div>\n",
       "<table border=\"1\" class=\"dataframe\">\n",
       "  <thead>\n",
       "    <tr style=\"text-align: right;\">\n",
       "      <th></th>\n",
       "      <th>moviename</th>\n",
       "      <th>BoxOffice</th>\n",
       "      <th>ProductionBudget</th>\n",
       "      <th>Genre</th>\n",
       "      <th>ReleaseDate</th>\n",
       "      <th>deathcount</th>\n",
       "      <th>deathcomment</th>\n",
       "    </tr>\n",
       "  </thead>\n",
       "  <tbody>\n",
       "    <tr>\n",
       "      <th>4</th>\n",
       "      <td>13 going on 30</td>\n",
       "      <td>57139723</td>\n",
       "      <td>30000000</td>\n",
       "      <td>comedy</td>\n",
       "      <td>2004-04-23</td>\n",
       "      <td>0</td>\n",
       "      <td>0</td>\n",
       "    </tr>\n",
       "  </tbody>\n",
       "</table>\n",
       "</div>"
      ],
      "text/plain": [
       "        moviename  BoxOffice  ProductionBudget   Genre ReleaseDate  \\\n",
       "4  13 going on 30   57139723          30000000  comedy  2004-04-23   \n",
       "\n",
       "   deathcount deathcomment  \n",
       "4           0            0  "
      ]
     },
     "execution_count": 13,
     "metadata": {},
     "output_type": "execute_result"
    }
   ],
   "source": [
    "final_data_frame_complete.head(1)"
   ]
  },
  {
   "cell_type": "code",
   "execution_count": 39,
   "metadata": {
    "collapsed": false
   },
   "outputs": [],
   "source": [
    "#We have to export this as a CSV for the D3 visualization later on. \n",
    "final_data_frame_complete.to_csv(\"d3/final_data_frame_complete.csv\", encoding='utf-8')\n",
    "final_data_frame_minus_outliers.to_csv(\"d3/final_data_frame_minus_outliers.csv\", encoding='utf-8')"
   ]
  },
  {
   "cell_type": "code",
   "execution_count": 42,
   "metadata": {
    "collapsed": false
   },
   "outputs": [],
   "source": [
    "#quick read-in of extra cleaned data\n",
    "final_data_frame_monday = pd.read_csv(\"d3/final_data_frame_monday.csv\", encoding='latin-1')"
   ]
  },
  {
   "cell_type": "markdown",
   "metadata": {},
   "source": [
    "So we have all our stuff and some extra fun comments that will be interesting during visualization. Only twenty movies were removed during the outlier cleaning. "
   ]
  },
  {
   "cell_type": "markdown",
   "metadata": {},
   "source": [
    "### Step 3: Statistical Analysis\n",
    "Now that we have the data, let's revisit the questions we asked and find the best models to answer them."
   ]
  },
  {
   "cell_type": "markdown",
   "metadata": {},
   "source": [
    "### Initial Analysis: what factors influence box office revenue?"
   ]
  },
  {
   "cell_type": "code",
   "execution_count": 28,
   "metadata": {
    "collapsed": false
   },
   "outputs": [
    {
     "data": {
      "text/html": [
       "<table class=\"simpletable\">\n",
       "<caption>OLS Regression Results</caption>\n",
       "<tr>\n",
       "  <th>Dep. Variable:</th>        <td>BoxOffice</td>    <th>  R-squared:         </th> <td>   0.498</td> \n",
       "</tr>\n",
       "<tr>\n",
       "  <th>Model:</th>                   <td>OLS</td>       <th>  Adj. R-squared:    </th> <td>   0.493</td> \n",
       "</tr>\n",
       "<tr>\n",
       "  <th>Method:</th>             <td>Least Squares</td>  <th>  F-statistic:       </th> <td>   94.55</td> \n",
       "</tr>\n",
       "<tr>\n",
       "  <th>Date:</th>             <td>Mon, 28 Mar 2016</td> <th>  Prob (F-statistic):</th> <td>1.97e-148</td>\n",
       "</tr>\n",
       "<tr>\n",
       "  <th>Time:</th>                 <td>09:10:25</td>     <th>  Log-Likelihood:    </th> <td> -20508.</td> \n",
       "</tr>\n",
       "<tr>\n",
       "  <th>No. Observations:</th>      <td>  1060</td>      <th>  AIC:               </th> <td>4.104e+04</td>\n",
       "</tr>\n",
       "<tr>\n",
       "  <th>Df Residuals:</th>          <td>  1048</td>      <th>  BIC:               </th> <td>4.110e+04</td>\n",
       "</tr>\n",
       "<tr>\n",
       "  <th>Df Model:</th>              <td>    11</td>      <th>                     </th>     <td> </td>    \n",
       "</tr>\n",
       "<tr>\n",
       "  <th>Covariance Type:</th>      <td>nonrobust</td>    <th>                     </th>     <td> </td>    \n",
       "</tr>\n",
       "</table>\n",
       "<table class=\"simpletable\">\n",
       "<tr>\n",
       "               <td></td>                 <th>coef</th>     <th>std err</th>      <th>t</th>      <th>P>|t|</th> <th>[95.0% Conf. Int.]</th> \n",
       "</tr>\n",
       "<tr>\n",
       "  <th>Intercept</th>                  <td> 9.605e+06</td> <td> 5.42e+06</td> <td>    1.771</td> <td> 0.077</td> <td>-1.04e+06  2.02e+07</td>\n",
       "</tr>\n",
       "<tr>\n",
       "  <th>Genre[T.adventure]</th>         <td> 4.723e+07</td> <td> 7.62e+06</td> <td>    6.196</td> <td> 0.000</td> <td> 3.23e+07  6.22e+07</td>\n",
       "</tr>\n",
       "<tr>\n",
       "  <th>Genre[T.black comedy]</th>      <td>-8.954e+06</td> <td> 1.21e+07</td> <td>   -0.742</td> <td> 0.458</td> <td>-3.26e+07  1.47e+07</td>\n",
       "</tr>\n",
       "<tr>\n",
       "  <th>Genre[T.comedy]</th>            <td>   1.7e+07</td> <td> 6.52e+06</td> <td>    2.606</td> <td> 0.009</td> <td>  4.2e+06  2.98e+07</td>\n",
       "</tr>\n",
       "<tr>\n",
       "  <th>Genre[T.drama]</th>             <td>  7.44e+06</td> <td> 6.46e+06</td> <td>    1.152</td> <td> 0.249</td> <td>-5.23e+06  2.01e+07</td>\n",
       "</tr>\n",
       "<tr>\n",
       "  <th>Genre[T.horror]</th>            <td> 1.046e+07</td> <td> 7.08e+06</td> <td>    1.478</td> <td> 0.140</td> <td>-3.43e+06  2.44e+07</td>\n",
       "</tr>\n",
       "<tr>\n",
       "  <th>Genre[T.musical]</th>           <td> 3.892e+06</td> <td> 2.23e+07</td> <td>    0.175</td> <td> 0.861</td> <td>-3.98e+07  4.76e+07</td>\n",
       "</tr>\n",
       "<tr>\n",
       "  <th>Genre[T.romantic comedy]</th>   <td> 1.047e+07</td> <td> 1.34e+07</td> <td>    0.784</td> <td> 0.433</td> <td>-1.57e+07  3.67e+07</td>\n",
       "</tr>\n",
       "<tr>\n",
       "  <th>Genre[T.thriller/suspense]</th> <td> 3.217e+06</td> <td> 6.76e+06</td> <td>    0.476</td> <td> 0.634</td> <td>   -1e+07  1.65e+07</td>\n",
       "</tr>\n",
       "<tr>\n",
       "  <th>Genre[T.western]</th>           <td> 3.224e+07</td> <td>  2.1e+07</td> <td>    1.535</td> <td> 0.125</td> <td>-8.96e+06  7.34e+07</td>\n",
       "</tr>\n",
       "<tr>\n",
       "  <th>ProductionBudget</th>           <td>    1.1619</td> <td>    0.046</td> <td>   25.257</td> <td> 0.000</td> <td>    1.072     1.252</td>\n",
       "</tr>\n",
       "<tr>\n",
       "  <th>deathcount</th>                 <td>   -0.0056</td> <td>    0.004</td> <td>   -1.265</td> <td> 0.206</td> <td>   -0.014     0.003</td>\n",
       "</tr>\n",
       "</table>\n",
       "<table class=\"simpletable\">\n",
       "<tr>\n",
       "  <th>Omnibus:</th>       <td>473.618</td> <th>  Durbin-Watson:     </th> <td>   1.967</td>\n",
       "</tr>\n",
       "<tr>\n",
       "  <th>Prob(Omnibus):</th> <td> 0.000</td>  <th>  Jarque-Bera (JB):  </th> <td>3400.157</td>\n",
       "</tr>\n",
       "<tr>\n",
       "  <th>Skew:</th>          <td> 1.909</td>  <th>  Prob(JB):          </th> <td>    0.00</td>\n",
       "</tr>\n",
       "<tr>\n",
       "  <th>Kurtosis:</th>      <td>10.900</td>  <th>  Cond. No.          </th> <td>5.26e+09</td>\n",
       "</tr>\n",
       "</table>"
      ],
      "text/plain": [
       "<class 'statsmodels.iolib.summary.Summary'>\n",
       "\"\"\"\n",
       "                            OLS Regression Results                            \n",
       "==============================================================================\n",
       "Dep. Variable:              BoxOffice   R-squared:                       0.498\n",
       "Model:                            OLS   Adj. R-squared:                  0.493\n",
       "Method:                 Least Squares   F-statistic:                     94.55\n",
       "Date:                Mon, 28 Mar 2016   Prob (F-statistic):          1.97e-148\n",
       "Time:                        09:10:25   Log-Likelihood:                -20508.\n",
       "No. Observations:                1060   AIC:                         4.104e+04\n",
       "Df Residuals:                    1048   BIC:                         4.110e+04\n",
       "Df Model:                          11                                         \n",
       "Covariance Type:            nonrobust                                         \n",
       "==============================================================================================\n",
       "                                 coef    std err          t      P>|t|      [95.0% Conf. Int.]\n",
       "----------------------------------------------------------------------------------------------\n",
       "Intercept                   9.605e+06   5.42e+06      1.771      0.077     -1.04e+06  2.02e+07\n",
       "Genre[T.adventure]          4.723e+07   7.62e+06      6.196      0.000      3.23e+07  6.22e+07\n",
       "Genre[T.black comedy]      -8.954e+06   1.21e+07     -0.742      0.458     -3.26e+07  1.47e+07\n",
       "Genre[T.comedy]               1.7e+07   6.52e+06      2.606      0.009       4.2e+06  2.98e+07\n",
       "Genre[T.drama]               7.44e+06   6.46e+06      1.152      0.249     -5.23e+06  2.01e+07\n",
       "Genre[T.horror]             1.046e+07   7.08e+06      1.478      0.140     -3.43e+06  2.44e+07\n",
       "Genre[T.musical]            3.892e+06   2.23e+07      0.175      0.861     -3.98e+07  4.76e+07\n",
       "Genre[T.romantic comedy]    1.047e+07   1.34e+07      0.784      0.433     -1.57e+07  3.67e+07\n",
       "Genre[T.thriller/suspense]  3.217e+06   6.76e+06      0.476      0.634        -1e+07  1.65e+07\n",
       "Genre[T.western]            3.224e+07    2.1e+07      1.535      0.125     -8.96e+06  7.34e+07\n",
       "ProductionBudget               1.1619      0.046     25.257      0.000         1.072     1.252\n",
       "deathcount                    -0.0056      0.004     -1.265      0.206        -0.014     0.003\n",
       "==============================================================================\n",
       "Omnibus:                      473.618   Durbin-Watson:                   1.967\n",
       "Prob(Omnibus):                  0.000   Jarque-Bera (JB):             3400.157\n",
       "Skew:                           1.909   Prob(JB):                         0.00\n",
       "Kurtosis:                      10.900   Cond. No.                     5.26e+09\n",
       "==============================================================================\n",
       "\n",
       "Warnings:\n",
       "[1] Standard Errors assume that the covariance matrix of the errors is correctly specified.\n",
       "[2] The condition number is large, 5.26e+09. This might indicate that there are\n",
       "strong multicollinearity or other numerical problems.\n",
       "\"\"\""
      ]
     },
     "execution_count": 28,
     "metadata": {},
     "output_type": "execute_result"
    }
   ],
   "source": [
    "Y, x = dmatrices('BoxOffice ~ ProductionBudget + Genre + deathcount', data=final_data_frame_complete, return_type='dataframe')\n",
    "# This sets BoxOffice as our dependent variable. Everything after the ~ is combined into intercepts as one massive variable.\n",
    "model = sm.OLS(Y, x)\n",
    "results = model.fit()\n",
    "results.summary()"
   ]
  },
  {
   "cell_type": "markdown",
   "metadata": {},
   "source": [
    "So as you can see, the movie's genre and production budget has more of an effect on the box office than the deathcount, at least in this model.  \n",
    "Including the release dates (which are all basically unique) greatly improves the P values of the other variables.\n",
    "### Insight into the genres  \n",
    "Movies with better chances of guaranteed high profit: adventure, drama, horror, thriller/suspense.\n",
    "Movies with highly variable chances for high profit: black comedy, comedy\n",
    "Movies with unclear outcomes: Romantic comedy, westerns\n",
    "Movies that don't do well: Musicals"
   ]
  },
  {
   "cell_type": "code",
   "execution_count": 16,
   "metadata": {
    "collapsed": true
   },
   "outputs": [],
   "source": [
    "# write out in better detail why this is happening. "
   ]
  },
  {
   "cell_type": "markdown",
   "metadata": {},
   "source": [
    "### Is the amount of on-screen deaths going up in modern movies?   \n",
    "Technique to solve this: create an average of deaths per year in movies. \n",
    "\n"
   ]
  },
  {
   "cell_type": "code",
   "execution_count": 17,
   "metadata": {
    "collapsed": false
   },
   "outputs": [],
   "source": [
    "average_deaths = final_data_frame_minus_outliers[[\"ReleaseDate\", \"deathcount\", \"Genre\"]] #taking Genre for visualization. I have a hunch..."
   ]
  },
  {
   "cell_type": "code",
   "execution_count": 18,
   "metadata": {
    "collapsed": false
   },
   "outputs": [
    {
     "name": "stderr",
     "output_type": "stream",
     "text": [
      "/Users/bryanbumgardner/anaconda/lib/python3.5/site-packages/ipykernel/__main__.py:1: SettingWithCopyWarning: \n",
      "A value is trying to be set on a copy of a slice from a DataFrame.\n",
      "Try using .loc[row_indexer,col_indexer] = value instead\n",
      "\n",
      "See the caveats in the documentation: http://pandas.pydata.org/pandas-docs/stable/indexing.html#indexing-view-versus-copy\n",
      "  if __name__ == '__main__':\n"
     ]
    }
   ],
   "source": [
    "average_deaths[\"Year\"] = average_deaths[\"ReleaseDate\"].map(lambda x: x.strftime('%Y'))\n",
    "# strip just the year from the datetime object and put it into it's own column\n",
    "# This is a deep copy warning, it's not an error. Ignore this for now, it's not causing a problem. "
   ]
  },
  {
   "cell_type": "markdown",
   "metadata": {},
   "source": [
    "A quick statistical test to see if year has a big effect on movie count. Averages aren't great, but this is just a top level view. "
   ]
  },
  {
   "cell_type": "code",
   "execution_count": 19,
   "metadata": {
    "collapsed": false
   },
   "outputs": [
    {
     "data": {
      "text/html": [
       "<table class=\"simpletable\">\n",
       "<caption>OLS Regression Results</caption>\n",
       "<tr>\n",
       "  <th>Dep. Variable:</th>          <td>Year</td>       <th>  R-squared:         </th> <td>   0.294</td>\n",
       "</tr>\n",
       "<tr>\n",
       "  <th>Model:</th>                   <td>OLS</td>       <th>  Adj. R-squared:    </th> <td>   0.280</td>\n",
       "</tr>\n",
       "<tr>\n",
       "  <th>Method:</th>             <td>Least Squares</td>  <th>  F-statistic:       </th> <td>   22.03</td>\n",
       "</tr>\n",
       "<tr>\n",
       "  <th>Date:</th>             <td>Mon, 28 Mar 2016</td> <th>  Prob (F-statistic):</th> <td>1.93e-05</td>\n",
       "</tr>\n",
       "<tr>\n",
       "  <th>Time:</th>                 <td>09:09:22</td>     <th>  Log-Likelihood:    </th> <td> -477.34</td>\n",
       "</tr>\n",
       "<tr>\n",
       "  <th>No. Observations:</th>      <td>    54</td>      <th>  AIC:               </th> <td>   956.7</td>\n",
       "</tr>\n",
       "<tr>\n",
       "  <th>Df Residuals:</th>          <td>    53</td>      <th>  BIC:               </th> <td>   958.7</td>\n",
       "</tr>\n",
       "<tr>\n",
       "  <th>Df Model:</th>              <td>     1</td>      <th>                     </th>     <td> </td>   \n",
       "</tr>\n",
       "<tr>\n",
       "  <th>Covariance Type:</th>      <td>nonrobust</td>    <th>                     </th>     <td> </td>   \n",
       "</tr>\n",
       "</table>\n",
       "<table class=\"simpletable\">\n",
       "<tr>\n",
       "       <td></td>         <th>coef</th>     <th>std err</th>      <th>t</th>      <th>P>|t|</th> <th>[95.0% Conf. Int.]</th> \n",
       "</tr>\n",
       "<tr>\n",
       "  <th>deathcount</th> <td>    2.9519</td> <td>    0.629</td> <td>    4.694</td> <td> 0.000</td> <td>    1.690     4.213</td>\n",
       "</tr>\n",
       "</table>\n",
       "<table class=\"simpletable\">\n",
       "<tr>\n",
       "  <th>Omnibus:</th>       <td>42.151</td> <th>  Durbin-Watson:     </th> <td>   0.509</td>\n",
       "</tr>\n",
       "<tr>\n",
       "  <th>Prob(Omnibus):</th> <td> 0.000</td> <th>  Jarque-Bera (JB):  </th> <td> 117.907</td>\n",
       "</tr>\n",
       "<tr>\n",
       "  <th>Skew:</th>          <td>-2.334</td> <th>  Prob(JB):          </th> <td>2.49e-26</td>\n",
       "</tr>\n",
       "<tr>\n",
       "  <th>Kurtosis:</th>      <td> 8.534</td> <th>  Cond. No.          </th> <td>    1.00</td>\n",
       "</tr>\n",
       "</table>"
      ],
      "text/plain": [
       "<class 'statsmodels.iolib.summary.Summary'>\n",
       "\"\"\"\n",
       "                            OLS Regression Results                            \n",
       "==============================================================================\n",
       "Dep. Variable:                   Year   R-squared:                       0.294\n",
       "Model:                            OLS   Adj. R-squared:                  0.280\n",
       "Method:                 Least Squares   F-statistic:                     22.03\n",
       "Date:                Mon, 28 Mar 2016   Prob (F-statistic):           1.93e-05\n",
       "Time:                        09:09:22   Log-Likelihood:                -477.34\n",
       "No. Observations:                  54   AIC:                             956.7\n",
       "Df Residuals:                      53   BIC:                             958.7\n",
       "Df Model:                           1                                         \n",
       "Covariance Type:            nonrobust                                         \n",
       "==============================================================================\n",
       "                 coef    std err          t      P>|t|      [95.0% Conf. Int.]\n",
       "------------------------------------------------------------------------------\n",
       "deathcount     2.9519      0.629      4.694      0.000         1.690     4.213\n",
       "==============================================================================\n",
       "Omnibus:                       42.151   Durbin-Watson:                   0.509\n",
       "Prob(Omnibus):                  0.000   Jarque-Bera (JB):              117.907\n",
       "Skew:                          -2.334   Prob(JB):                     2.49e-26\n",
       "Kurtosis:                       8.534   Cond. No.                         1.00\n",
       "==============================================================================\n",
       "\n",
       "Warnings:\n",
       "[1] Standard Errors assume that the covariance matrix of the errors is correctly specified.\n",
       "\"\"\""
      ]
     },
     "execution_count": 19,
     "metadata": {},
     "output_type": "execute_result"
    }
   ],
   "source": [
    "cleaned_average_deaths = average_deaths.groupby(['Year']).mean().reset_index() #group by the year, get the mean of the deathcounts,\n",
    "# and use reset_index to move the year into it's own column instead of using it as the index. Just personal preference.\n",
    "\n",
    "x = pd.to_numeric(cleaned_average_deaths[\"Year\"]) #for modeling, these types must be numeric. Originally were floats. \n",
    "y = pd.to_numeric(cleaned_average_deaths[\"deathcount\"])\n",
    "\n",
    "model = sm.OLS(x, y) #Linear Regression with Ordinary Least Squares.\n",
    "results = model.fit()\n",
    "results.summary()"
   ]
  },
  {
   "cell_type": "code",
   "execution_count": 20,
   "metadata": {
    "collapsed": false
   },
   "outputs": [
    {
     "data": {
      "text/plain": [
       "<matplotlib.collections.PathCollection at 0x11293be48>"
      ]
     },
     "execution_count": 20,
     "metadata": {},
     "output_type": "execute_result"
    },
    {
     "data": {
      "image/png": "[encoded data removed]",
      "text/plain": [
       "<matplotlib.figure.Figure at 0x11253ee10>"
      ]
     },
     "metadata": {},
     "output_type": "display_data"
    }
   ],
   "source": [
    "#sns.regplot(x=\"Year\", y=\"deathcount\", data=cleaned_average_deaths)\n",
    "plt.scatter(x,y)"
   ]
  },
  {
   "cell_type": "markdown",
   "metadata": {},
   "source": [
    "At first glance, it appears that death counts are going up. This requires a little more analysis - perhaps a histogram or box plot. That can happen later."
   ]
  },
  {
   "cell_type": "markdown",
   "metadata": {},
   "source": [
    "### What factors affect a movie's death count, then?"
   ]
  },
  {
   "cell_type": "code",
   "execution_count": 30,
   "metadata": {
    "collapsed": false
   },
   "outputs": [
    {
     "data": {
      "text/html": [
       "<table class=\"simpletable\">\n",
       "<caption>OLS Regression Results</caption>\n",
       "<tr>\n",
       "  <th>Dep. Variable:</th>       <td>deathcount</td>    <th>  R-squared:         </th> <td>   0.014</td> \n",
       "</tr>\n",
       "<tr>\n",
       "  <th>Model:</th>                   <td>OLS</td>       <th>  Adj. R-squared:    </th> <td>   0.004</td> \n",
       "</tr>\n",
       "<tr>\n",
       "  <th>Method:</th>             <td>Least Squares</td>  <th>  F-statistic:       </th> <td>   1.366</td> \n",
       "</tr>\n",
       "<tr>\n",
       "  <th>Date:</th>             <td>Mon, 28 Mar 2016</td> <th>  Prob (F-statistic):</th>  <td> 0.183</td>  \n",
       "</tr>\n",
       "<tr>\n",
       "  <th>Time:</th>                 <td>09:14:31</td>     <th>  Log-Likelihood:    </th> <td> -22571.</td> \n",
       "</tr>\n",
       "<tr>\n",
       "  <th>No. Observations:</th>      <td>  1060</td>      <th>  AIC:               </th> <td>4.517e+04</td>\n",
       "</tr>\n",
       "<tr>\n",
       "  <th>Df Residuals:</th>          <td>  1048</td>      <th>  BIC:               </th> <td>4.523e+04</td>\n",
       "</tr>\n",
       "<tr>\n",
       "  <th>Df Model:</th>              <td>    11</td>      <th>                     </th>     <td> </td>    \n",
       "</tr>\n",
       "<tr>\n",
       "  <th>Covariance Type:</th>      <td>nonrobust</td>    <th>                     </th>     <td> </td>    \n",
       "</tr>\n",
       "</table>\n",
       "<table class=\"simpletable\">\n",
       "<tr>\n",
       "               <td></td>                 <th>coef</th>     <th>std err</th>      <th>t</th>      <th>P>|t|</th> <th>[95.0% Conf. Int.]</th> \n",
       "</tr>\n",
       "<tr>\n",
       "  <th>Intercept</th>                  <td>-7.405e+06</td> <td>  3.8e+07</td> <td>   -0.195</td> <td> 0.846</td> <td> -8.2e+07  6.72e+07</td>\n",
       "</tr>\n",
       "<tr>\n",
       "  <th>Genre[T.adventure]</th>         <td> 6.866e+06</td> <td> 5.43e+07</td> <td>    0.126</td> <td> 0.899</td> <td>-9.97e+07  1.13e+08</td>\n",
       "</tr>\n",
       "<tr>\n",
       "  <th>Genre[T.black comedy]</th>      <td>-1.096e+07</td> <td> 8.45e+07</td> <td>   -0.130</td> <td> 0.897</td> <td>-1.77e+08  1.55e+08</td>\n",
       "</tr>\n",
       "<tr>\n",
       "  <th>Genre[T.comedy]</th>            <td>  2.42e+07</td> <td> 4.58e+07</td> <td>    0.528</td> <td> 0.597</td> <td>-6.57e+07  1.14e+08</td>\n",
       "</tr>\n",
       "<tr>\n",
       "  <th>Genre[T.drama]</th>             <td>-1.295e+07</td> <td> 4.52e+07</td> <td>   -0.286</td> <td> 0.775</td> <td>-1.02e+08  7.58e+07</td>\n",
       "</tr>\n",
       "<tr>\n",
       "  <th>Genre[T.horror]</th>            <td>-5.693e+04</td> <td> 4.96e+07</td> <td>   -0.001</td> <td> 0.999</td> <td>-9.74e+07  9.73e+07</td>\n",
       "</tr>\n",
       "<tr>\n",
       "  <th>Genre[T.musical]</th>           <td>-6.325e+06</td> <td> 1.56e+08</td> <td>   -0.041</td> <td> 0.968</td> <td>-3.12e+08     3e+08</td>\n",
       "</tr>\n",
       "<tr>\n",
       "  <th>Genre[T.romantic comedy]</th>   <td> -1.92e+07</td> <td> 9.35e+07</td> <td>   -0.205</td> <td> 0.837</td> <td>-2.03e+08  1.64e+08</td>\n",
       "</tr>\n",
       "<tr>\n",
       "  <th>Genre[T.thriller/suspense]</th> <td> 6.866e+07</td> <td> 4.73e+07</td> <td>    1.452</td> <td> 0.147</td> <td>-2.41e+07  1.61e+08</td>\n",
       "</tr>\n",
       "<tr>\n",
       "  <th>Genre[T.western]</th>           <td>-1.317e+07</td> <td> 1.47e+08</td> <td>   -0.090</td> <td> 0.929</td> <td>-3.02e+08  2.76e+08</td>\n",
       "</tr>\n",
       "<tr>\n",
       "  <th>ProductionBudget</th>           <td>    1.1698</td> <td>    0.407</td> <td>    2.876</td> <td> 0.004</td> <td>    0.372     1.968</td>\n",
       "</tr>\n",
       "<tr>\n",
       "  <th>BoxOffice</th>                  <td>   -0.2732</td> <td>    0.216</td> <td>   -1.265</td> <td> 0.206</td> <td>   -0.697     0.151</td>\n",
       "</tr>\n",
       "</table>\n",
       "<table class=\"simpletable\">\n",
       "<tr>\n",
       "  <th>Omnibus:</th>       <td>1992.943</td> <th>  Durbin-Watson:     </th>  <td>   2.018</td>  \n",
       "</tr>\n",
       "<tr>\n",
       "  <th>Prob(Omnibus):</th>  <td> 0.000</td>  <th>  Jarque-Bera (JB):  </th> <td>1773287.801</td>\n",
       "</tr>\n",
       "<tr>\n",
       "  <th>Skew:</th>           <td>13.632</td>  <th>  Prob(JB):          </th>  <td>    0.00</td>  \n",
       "</tr>\n",
       "<tr>\n",
       "  <th>Kurtosis:</th>       <td>201.511</td> <th>  Cond. No.          </th>  <td>1.53e+09</td>  \n",
       "</tr>\n",
       "</table>"
      ],
      "text/plain": [
       "<class 'statsmodels.iolib.summary.Summary'>\n",
       "\"\"\"\n",
       "                            OLS Regression Results                            \n",
       "==============================================================================\n",
       "Dep. Variable:             deathcount   R-squared:                       0.014\n",
       "Model:                            OLS   Adj. R-squared:                  0.004\n",
       "Method:                 Least Squares   F-statistic:                     1.366\n",
       "Date:                Mon, 28 Mar 2016   Prob (F-statistic):              0.183\n",
       "Time:                        09:14:31   Log-Likelihood:                -22571.\n",
       "No. Observations:                1060   AIC:                         4.517e+04\n",
       "Df Residuals:                    1048   BIC:                         4.523e+04\n",
       "Df Model:                          11                                         \n",
       "Covariance Type:            nonrobust                                         \n",
       "==============================================================================================\n",
       "                                 coef    std err          t      P>|t|      [95.0% Conf. Int.]\n",
       "----------------------------------------------------------------------------------------------\n",
       "Intercept                  -7.405e+06    3.8e+07     -0.195      0.846      -8.2e+07  6.72e+07\n",
       "Genre[T.adventure]          6.866e+06   5.43e+07      0.126      0.899     -9.97e+07  1.13e+08\n",
       "Genre[T.black comedy]      -1.096e+07   8.45e+07     -0.130      0.897     -1.77e+08  1.55e+08\n",
       "Genre[T.comedy]              2.42e+07   4.58e+07      0.528      0.597     -6.57e+07  1.14e+08\n",
       "Genre[T.drama]             -1.295e+07   4.52e+07     -0.286      0.775     -1.02e+08  7.58e+07\n",
       "Genre[T.horror]            -5.693e+04   4.96e+07     -0.001      0.999     -9.74e+07  9.73e+07\n",
       "Genre[T.musical]           -6.325e+06   1.56e+08     -0.041      0.968     -3.12e+08     3e+08\n",
       "Genre[T.romantic comedy]    -1.92e+07   9.35e+07     -0.205      0.837     -2.03e+08  1.64e+08\n",
       "Genre[T.thriller/suspense]  6.866e+07   4.73e+07      1.452      0.147     -2.41e+07  1.61e+08\n",
       "Genre[T.western]           -1.317e+07   1.47e+08     -0.090      0.929     -3.02e+08  2.76e+08\n",
       "ProductionBudget               1.1698      0.407      2.876      0.004         0.372     1.968\n",
       "BoxOffice                     -0.2732      0.216     -1.265      0.206        -0.697     0.151\n",
       "==============================================================================\n",
       "Omnibus:                     1992.943   Durbin-Watson:                   2.018\n",
       "Prob(Omnibus):                  0.000   Jarque-Bera (JB):          1773287.801\n",
       "Skew:                          13.632   Prob(JB):                         0.00\n",
       "Kurtosis:                     201.511   Cond. No.                     1.53e+09\n",
       "==============================================================================\n",
       "\n",
       "Warnings:\n",
       "[1] Standard Errors assume that the covariance matrix of the errors is correctly specified.\n",
       "[2] The condition number is large, 1.53e+09. This might indicate that there are\n",
       "strong multicollinearity or other numerical problems.\n",
       "\"\"\""
      ]
     },
     "execution_count": 30,
     "metadata": {},
     "output_type": "execute_result"
    }
   ],
   "source": [
    "Y, x = dmatrices('deathcount ~ ProductionBudget + Genre + BoxOffice', data=final_data_frame_complete, return_type='dataframe')\n",
    "# left out Box Office because that number is determined chronologically. The amount of deaths won't change post-production of a movie.\n",
    "model = sm.OLS(Y, x)\n",
    "results = model.fit()\n",
    "results.summary()\n",
    "# Production budget, obviously"
   ]
  },
  {
   "cell_type": "markdown",
   "metadata": {
    "collapsed": false
   },
   "source": [
    "### What affects a movie's production budget?"
   ]
  },
  {
   "cell_type": "code",
   "execution_count": 31,
   "metadata": {
    "collapsed": false
   },
   "outputs": [
    {
     "data": {
      "text/html": [
       "<table class=\"simpletable\">\n",
       "<caption>OLS Regression Results</caption>\n",
       "<tr>\n",
       "  <th>Dep. Variable:</th>    <td>ProductionBudget</td> <th>  R-squared:         </th> <td>   0.280</td> \n",
       "</tr>\n",
       "<tr>\n",
       "  <th>Model:</th>                   <td>OLS</td>       <th>  Adj. R-squared:    </th> <td>   0.273</td> \n",
       "</tr>\n",
       "<tr>\n",
       "  <th>Method:</th>             <td>Least Squares</td>  <th>  F-statistic:       </th> <td>   40.10</td> \n",
       "</tr>\n",
       "<tr>\n",
       "  <th>Date:</th>             <td>Mon, 28 Mar 2016</td> <th>  Prob (F-statistic):</th> <td>5.44e-67</td> \n",
       "</tr>\n",
       "<tr>\n",
       "  <th>Time:</th>                 <td>09:16:42</td>     <th>  Log-Likelihood:    </th> <td> -19683.</td> \n",
       "</tr>\n",
       "<tr>\n",
       "  <th>No. Observations:</th>      <td>  1040</td>      <th>  AIC:               </th> <td>3.939e+04</td>\n",
       "</tr>\n",
       "<tr>\n",
       "  <th>Df Residuals:</th>          <td>  1029</td>      <th>  BIC:               </th> <td>3.944e+04</td>\n",
       "</tr>\n",
       "<tr>\n",
       "  <th>Df Model:</th>              <td>    10</td>      <th>                     </th>     <td> </td>    \n",
       "</tr>\n",
       "<tr>\n",
       "  <th>Covariance Type:</th>      <td>nonrobust</td>    <th>                     </th>     <td> </td>    \n",
       "</tr>\n",
       "</table>\n",
       "<table class=\"simpletable\">\n",
       "<tr>\n",
       "               <td></td>                 <th>coef</th>     <th>std err</th>      <th>t</th>      <th>P>|t|</th> <th>[95.0% Conf. Int.]</th> \n",
       "</tr>\n",
       "<tr>\n",
       "  <th>Intercept</th>                  <td> 6.897e+07</td> <td> 2.86e+06</td> <td>   24.098</td> <td> 0.000</td> <td> 6.34e+07  7.46e+07</td>\n",
       "</tr>\n",
       "<tr>\n",
       "  <th>Genre[T.adventure]</th>         <td> 3.027e+07</td> <td> 5.08e+06</td> <td>    5.957</td> <td> 0.000</td> <td> 2.03e+07  4.02e+07</td>\n",
       "</tr>\n",
       "<tr>\n",
       "  <th>Genre[T.black comedy]</th>      <td>-4.724e+07</td> <td> 7.79e+06</td> <td>   -6.064</td> <td> 0.000</td> <td>-6.25e+07  -3.2e+07</td>\n",
       "</tr>\n",
       "<tr>\n",
       "  <th>Genre[T.comedy]</th>            <td>-3.919e+07</td> <td> 4.13e+06</td> <td>   -9.496</td> <td> 0.000</td> <td>-4.73e+07 -3.11e+07</td>\n",
       "</tr>\n",
       "<tr>\n",
       "  <th>Genre[T.drama]</th>             <td>-3.992e+07</td> <td> 4.07e+06</td> <td>   -9.808</td> <td> 0.000</td> <td>-4.79e+07 -3.19e+07</td>\n",
       "</tr>\n",
       "<tr>\n",
       "  <th>Genre[T.horror]</th>            <td>-5.448e+07</td> <td> 4.35e+06</td> <td>  -12.528</td> <td> 0.000</td> <td> -6.3e+07 -4.59e+07</td>\n",
       "</tr>\n",
       "<tr>\n",
       "  <th>Genre[T.musical]</th>           <td>-4.863e+07</td> <td> 1.45e+07</td> <td>   -3.344</td> <td> 0.001</td> <td>-7.72e+07 -2.01e+07</td>\n",
       "</tr>\n",
       "<tr>\n",
       "  <th>Genre[T.romantic comedy]</th>   <td>-3.133e+07</td> <td> 8.72e+06</td> <td>   -3.594</td> <td> 0.000</td> <td>-4.84e+07 -1.42e+07</td>\n",
       "</tr>\n",
       "<tr>\n",
       "  <th>Genre[T.thriller/suspense]</th> <td>-2.993e+07</td> <td> 4.37e+06</td> <td>   -6.842</td> <td> 0.000</td> <td>-3.85e+07 -2.13e+07</td>\n",
       "</tr>\n",
       "<tr>\n",
       "  <th>Genre[T.western]</th>           <td>-3.163e+07</td> <td> 1.37e+07</td> <td>   -2.301</td> <td> 0.022</td> <td>-5.86e+07 -4.66e+06</td>\n",
       "</tr>\n",
       "<tr>\n",
       "  <th>deathcount</th>                 <td> 1339.7604</td> <td>  510.372</td> <td>    2.625</td> <td> 0.009</td> <td>  338.273  2341.248</td>\n",
       "</tr>\n",
       "</table>\n",
       "<table class=\"simpletable\">\n",
       "<tr>\n",
       "  <th>Omnibus:</th>       <td>473.200</td> <th>  Durbin-Watson:     </th> <td>   2.029</td>\n",
       "</tr>\n",
       "<tr>\n",
       "  <th>Prob(Omnibus):</th> <td> 0.000</td>  <th>  Jarque-Bera (JB):  </th> <td>3859.373</td>\n",
       "</tr>\n",
       "<tr>\n",
       "  <th>Skew:</th>          <td> 1.902</td>  <th>  Prob(JB):          </th> <td>    0.00</td>\n",
       "</tr>\n",
       "<tr>\n",
       "  <th>Kurtosis:</th>      <td>11.637</td>  <th>  Cond. No.          </th> <td>2.94e+04</td>\n",
       "</tr>\n",
       "</table>"
      ],
      "text/plain": [
       "<class 'statsmodels.iolib.summary.Summary'>\n",
       "\"\"\"\n",
       "                            OLS Regression Results                            \n",
       "==============================================================================\n",
       "Dep. Variable:       ProductionBudget   R-squared:                       0.280\n",
       "Model:                            OLS   Adj. R-squared:                  0.273\n",
       "Method:                 Least Squares   F-statistic:                     40.10\n",
       "Date:                Mon, 28 Mar 2016   Prob (F-statistic):           5.44e-67\n",
       "Time:                        09:16:42   Log-Likelihood:                -19683.\n",
       "No. Observations:                1040   AIC:                         3.939e+04\n",
       "Df Residuals:                    1029   BIC:                         3.944e+04\n",
       "Df Model:                          10                                         \n",
       "Covariance Type:            nonrobust                                         \n",
       "==============================================================================================\n",
       "                                 coef    std err          t      P>|t|      [95.0% Conf. Int.]\n",
       "----------------------------------------------------------------------------------------------\n",
       "Intercept                   6.897e+07   2.86e+06     24.098      0.000      6.34e+07  7.46e+07\n",
       "Genre[T.adventure]          3.027e+07   5.08e+06      5.957      0.000      2.03e+07  4.02e+07\n",
       "Genre[T.black comedy]      -4.724e+07   7.79e+06     -6.064      0.000     -6.25e+07  -3.2e+07\n",
       "Genre[T.comedy]            -3.919e+07   4.13e+06     -9.496      0.000     -4.73e+07 -3.11e+07\n",
       "Genre[T.drama]             -3.992e+07   4.07e+06     -9.808      0.000     -4.79e+07 -3.19e+07\n",
       "Genre[T.horror]            -5.448e+07   4.35e+06    -12.528      0.000      -6.3e+07 -4.59e+07\n",
       "Genre[T.musical]           -4.863e+07   1.45e+07     -3.344      0.001     -7.72e+07 -2.01e+07\n",
       "Genre[T.romantic comedy]   -3.133e+07   8.72e+06     -3.594      0.000     -4.84e+07 -1.42e+07\n",
       "Genre[T.thriller/suspense] -2.993e+07   4.37e+06     -6.842      0.000     -3.85e+07 -2.13e+07\n",
       "Genre[T.western]           -3.163e+07   1.37e+07     -2.301      0.022     -5.86e+07 -4.66e+06\n",
       "deathcount                  1339.7604    510.372      2.625      0.009       338.273  2341.248\n",
       "==============================================================================\n",
       "Omnibus:                      473.200   Durbin-Watson:                   2.029\n",
       "Prob(Omnibus):                  0.000   Jarque-Bera (JB):             3859.373\n",
       "Skew:                           1.902   Prob(JB):                         0.00\n",
       "Kurtosis:                      11.637   Cond. No.                     2.94e+04\n",
       "==============================================================================\n",
       "\n",
       "Warnings:\n",
       "[1] Standard Errors assume that the covariance matrix of the errors is correctly specified.\n",
       "[2] The condition number is large, 2.94e+04. This might indicate that there are\n",
       "strong multicollinearity or other numerical problems.\n",
       "\"\"\""
      ]
     },
     "execution_count": 31,
     "metadata": {},
     "output_type": "execute_result"
    }
   ],
   "source": [
    "Y, x = dmatrices('ProductionBudget ~ deathcount + Genre', data=final_data_frame_minus_outliers, return_type='dataframe')\n",
    "#  Same here. Left out Box Office because that number is determined chronologically.\n",
    "model = sm.OLS(Y, x)\n",
    "results = model.fit()\n",
    "results.summary()\n",
    "#LOL Some of these genres don't get shit for budgets. "
   ]
  },
  {
   "cell_type": "code",
   "execution_count": null,
   "metadata": {
    "collapsed": true
   },
   "outputs": [],
   "source": []
  },
  {
   "cell_type": "code",
   "execution_count": null,
   "metadata": {
    "collapsed": true
   },
   "outputs": [],
   "source": []
  },
  {
   "cell_type": "markdown",
   "metadata": {
    "collapsed": false
   },
   "source": [
    "### Step 4. Visualizing "
   ]
  },
  {
   "cell_type": "code",
   "execution_count": 23,
   "metadata": {
    "collapsed": false
   },
   "outputs": [
    {
     "data": {
      "text/html": [
       "<div>\n",
       "<table border=\"1\" class=\"dataframe\">\n",
       "  <thead>\n",
       "    <tr style=\"text-align: right;\">\n",
       "      <th></th>\n",
       "      <th>moviename</th>\n",
       "      <th>BoxOffice</th>\n",
       "      <th>ProductionBudget</th>\n",
       "      <th>Genre</th>\n",
       "      <th>ReleaseDate</th>\n",
       "      <th>deathcount</th>\n",
       "      <th>deathcomment</th>\n",
       "    </tr>\n",
       "  </thead>\n",
       "  <tbody>\n",
       "    <tr>\n",
       "      <th>4</th>\n",
       "      <td>13 going on 30</td>\n",
       "      <td>57139723</td>\n",
       "      <td>30000000</td>\n",
       "      <td>comedy</td>\n",
       "      <td>2004-04-23</td>\n",
       "      <td>0</td>\n",
       "      <td>0</td>\n",
       "    </tr>\n",
       "  </tbody>\n",
       "</table>\n",
       "</div>"
      ],
      "text/plain": [
       "        moviename  BoxOffice  ProductionBudget   Genre ReleaseDate  \\\n",
       "4  13 going on 30   57139723          30000000  comedy  2004-04-23   \n",
       "\n",
       "   deathcount deathcomment  \n",
       "4           0            0  "
      ]
     },
     "execution_count": 23,
     "metadata": {},
     "output_type": "execute_result"
    }
   ],
   "source": [
    "final_data_frame_complete.head(1)"
   ]
  },
  {
   "cell_type": "code",
   "execution_count": 58,
   "metadata": {
    "collapsed": false
   },
   "outputs": [
    {
     "data": {
      "text/plain": [
       "<seaborn.axisgrid.FacetGrid at 0x113c6d5c0>"
      ]
     },
     "execution_count": 58,
     "metadata": {},
     "output_type": "execute_result"
    },
    {
     "data": {
      "image/png": "[encoded data removed]",
      "text/plain": [
       "<matplotlib.figure.Figure at 0x113c6d0f0>"
      ]
     },
     "metadata": {},
     "output_type": "display_data"
    }
   ],
   "source": [
    "sns.lmplot(x=\"ProductionBudget\", y=\"BoxOffice\", data=final_data_frame_minus_outliers)"
   ]
  },
  {
   "cell_type": "code",
   "execution_count": 25,
   "metadata": {
    "collapsed": false
   },
   "outputs": [
    {
     "data": {
      "image/png": "[encoded data removed]",
      "text/plain": [
       "<matplotlib.figure.Figure at 0x113c30550>"
      ]
     },
     "metadata": {},
     "output_type": "display_data"
    }
   ],
   "source": [
    "sns.boxplot(x=\"ProductionBudget\", y=\"Genre\", data=final_data_frame_minus_outliers);"
   ]
  },
  {
   "cell_type": "code",
   "execution_count": 26,
   "metadata": {
    "collapsed": false
   },
   "outputs": [
    {
     "data": {
      "image/png": "[encoded data removed]",
      "text/plain": [
       "<matplotlib.figure.Figure at 0x11374ed30>"
      ]
     },
     "metadata": {},
     "output_type": "display_data"
    }
   ],
   "source": [
    "sns.boxplot(x=\"BoxOffice\", y=\"Genre\", data=final_data_frame_minus_outliers);"
   ]
  },
  {
   "cell_type": "code",
   "execution_count": 27,
   "metadata": {
    "collapsed": false
   },
   "outputs": [
    {
     "data": {
      "text/html": [
       "<div>\n",
       "<table border=\"1\" class=\"dataframe\">\n",
       "  <thead>\n",
       "    <tr style=\"text-align: right;\">\n",
       "      <th></th>\n",
       "      <th>moviename</th>\n",
       "      <th>BoxOffice</th>\n",
       "      <th>ProductionBudget</th>\n",
       "      <th>Genre</th>\n",
       "      <th>ReleaseDate</th>\n",
       "      <th>deathcount</th>\n",
       "      <th>deathcomment</th>\n",
       "    </tr>\n",
       "  </thead>\n",
       "  <tbody>\n",
       "    <tr>\n",
       "      <th>4</th>\n",
       "      <td>13 going on 30</td>\n",
       "      <td>57139723</td>\n",
       "      <td>30000000</td>\n",
       "      <td>comedy</td>\n",
       "      <td>2004-04-23</td>\n",
       "      <td>0</td>\n",
       "      <td>0</td>\n",
       "    </tr>\n",
       "  </tbody>\n",
       "</table>\n",
       "</div>"
      ],
      "text/plain": [
       "        moviename  BoxOffice  ProductionBudget   Genre ReleaseDate  \\\n",
       "4  13 going on 30   57139723          30000000  comedy  2004-04-23   \n",
       "\n",
       "   deathcount deathcomment  \n",
       "4           0            0  "
      ]
     },
     "execution_count": 27,
     "metadata": {},
     "output_type": "execute_result"
    }
   ],
   "source": [
    "final_data_frame_complete.head(1)"
   ]
  },
  {
   "cell_type": "markdown",
   "metadata": {},
   "source": [
    "### Minus movies with zero deaths, and only movies with less than 10,000 deaths:"
   ]
  },
  {
   "cell_type": "code",
   "execution_count": 44,
   "metadata": {
    "collapsed": false
   },
   "outputs": [
    {
     "data": {
      "text/html": [
       "<table class=\"simpletable\">\n",
       "<caption>OLS Regression Results</caption>\n",
       "<tr>\n",
       "  <th>Dep. Variable:</th>        <td>BoxOffice</td>    <th>  R-squared:         </th> <td>   0.513</td> \n",
       "</tr>\n",
       "<tr>\n",
       "  <th>Model:</th>                   <td>OLS</td>       <th>  Adj. R-squared:    </th> <td>   0.507</td> \n",
       "</tr>\n",
       "<tr>\n",
       "  <th>Method:</th>             <td>Least Squares</td>  <th>  F-statistic:       </th> <td>   89.14</td> \n",
       "</tr>\n",
       "<tr>\n",
       "  <th>Date:</th>             <td>Mon, 28 Mar 2016</td> <th>  Prob (F-statistic):</th> <td>3.26e-137</td>\n",
       "</tr>\n",
       "<tr>\n",
       "  <th>Time:</th>                 <td>09:28:17</td>     <th>  Log-Likelihood:    </th> <td> -18257.</td> \n",
       "</tr>\n",
       "<tr>\n",
       "  <th>No. Observations:</th>      <td>   944</td>      <th>  AIC:               </th> <td>3.654e+04</td>\n",
       "</tr>\n",
       "<tr>\n",
       "  <th>Df Residuals:</th>          <td>   932</td>      <th>  BIC:               </th> <td>3.660e+04</td>\n",
       "</tr>\n",
       "<tr>\n",
       "  <th>Df Model:</th>              <td>    11</td>      <th>                     </th>     <td> </td>    \n",
       "</tr>\n",
       "<tr>\n",
       "  <th>Covariance Type:</th>      <td>nonrobust</td>    <th>                     </th>     <td> </td>    \n",
       "</tr>\n",
       "</table>\n",
       "<table class=\"simpletable\">\n",
       "<tr>\n",
       "               <td></td>                 <th>coef</th>     <th>std err</th>      <th>t</th>      <th>P>|t|</th> <th>[95.0% Conf. Int.]</th> \n",
       "</tr>\n",
       "<tr>\n",
       "  <th>Intercept</th>                  <td> 8.099e+06</td> <td> 5.51e+06</td> <td>    1.469</td> <td> 0.142</td> <td>-2.72e+06  1.89e+07</td>\n",
       "</tr>\n",
       "<tr>\n",
       "  <th>Genre[T.adventure]</th>         <td> 4.841e+07</td> <td> 8.13e+06</td> <td>    5.953</td> <td> 0.000</td> <td> 3.24e+07  6.44e+07</td>\n",
       "</tr>\n",
       "<tr>\n",
       "  <th>Genre[T.black comedy]</th>      <td>-8.242e+06</td> <td> 1.22e+07</td> <td>   -0.676</td> <td> 0.499</td> <td>-3.22e+07  1.57e+07</td>\n",
       "</tr>\n",
       "<tr>\n",
       "  <th>Genre[T.comedy]</th>            <td>  1.47e+07</td> <td> 6.96e+06</td> <td>    2.112</td> <td> 0.035</td> <td> 1.04e+06  2.84e+07</td>\n",
       "</tr>\n",
       "<tr>\n",
       "  <th>Genre[T.drama]</th>             <td> 6.377e+06</td> <td> 6.68e+06</td> <td>    0.954</td> <td> 0.340</td> <td>-6.74e+06  1.95e+07</td>\n",
       "</tr>\n",
       "<tr>\n",
       "  <th>Genre[T.horror]</th>            <td> 1.146e+07</td> <td> 7.16e+06</td> <td>    1.599</td> <td> 0.110</td> <td> -2.6e+06  2.55e+07</td>\n",
       "</tr>\n",
       "<tr>\n",
       "  <th>Genre[T.musical]</th>           <td> 6.949e+06</td> <td> 2.36e+07</td> <td>    0.294</td> <td> 0.769</td> <td>-3.94e+07  5.33e+07</td>\n",
       "</tr>\n",
       "<tr>\n",
       "  <th>Genre[T.romantic comedy]</th>   <td> 3.221e+06</td> <td> 1.64e+07</td> <td>    0.196</td> <td> 0.845</td> <td> -2.9e+07  3.55e+07</td>\n",
       "</tr>\n",
       "<tr>\n",
       "  <th>Genre[T.thriller/suspense]</th> <td> 3.591e+06</td> <td> 6.91e+06</td> <td>    0.520</td> <td> 0.603</td> <td>-9.96e+06  1.71e+07</td>\n",
       "</tr>\n",
       "<tr>\n",
       "  <th>Genre[T.western]</th>           <td> 3.204e+07</td> <td> 2.09e+07</td> <td>    1.534</td> <td> 0.125</td> <td>-8.94e+06   7.3e+07</td>\n",
       "</tr>\n",
       "<tr>\n",
       "  <th>ProductionBudget</th>           <td>    1.1845</td> <td>    0.049</td> <td>   24.271</td> <td> 0.000</td> <td>    1.089     1.280</td>\n",
       "</tr>\n",
       "<tr>\n",
       "  <th>deathcount</th>                 <td> 5340.4078</td> <td> 3772.382</td> <td>    1.416</td> <td> 0.157</td> <td>-2062.939  1.27e+04</td>\n",
       "</tr>\n",
       "</table>\n",
       "<table class=\"simpletable\">\n",
       "<tr>\n",
       "  <th>Omnibus:</th>       <td>437.146</td> <th>  Durbin-Watson:     </th> <td>   1.593</td>\n",
       "</tr>\n",
       "<tr>\n",
       "  <th>Prob(Omnibus):</th> <td> 0.000</td>  <th>  Jarque-Bera (JB):  </th> <td>3430.737</td>\n",
       "</tr>\n",
       "<tr>\n",
       "  <th>Skew:</th>          <td> 1.948</td>  <th>  Prob(JB):          </th> <td>    0.00</td>\n",
       "</tr>\n",
       "<tr>\n",
       "  <th>Kurtosis:</th>      <td>11.488</td>  <th>  Cond. No.          </th> <td>7.87e+08</td>\n",
       "</tr>\n",
       "</table>"
      ],
      "text/plain": [
       "<class 'statsmodels.iolib.summary.Summary'>\n",
       "\"\"\"\n",
       "                            OLS Regression Results                            \n",
       "==============================================================================\n",
       "Dep. Variable:              BoxOffice   R-squared:                       0.513\n",
       "Model:                            OLS   Adj. R-squared:                  0.507\n",
       "Method:                 Least Squares   F-statistic:                     89.14\n",
       "Date:                Mon, 28 Mar 2016   Prob (F-statistic):          3.26e-137\n",
       "Time:                        09:28:17   Log-Likelihood:                -18257.\n",
       "No. Observations:                 944   AIC:                         3.654e+04\n",
       "Df Residuals:                     932   BIC:                         3.660e+04\n",
       "Df Model:                          11                                         \n",
       "Covariance Type:            nonrobust                                         \n",
       "==============================================================================================\n",
       "                                 coef    std err          t      P>|t|      [95.0% Conf. Int.]\n",
       "----------------------------------------------------------------------------------------------\n",
       "Intercept                   8.099e+06   5.51e+06      1.469      0.142     -2.72e+06  1.89e+07\n",
       "Genre[T.adventure]          4.841e+07   8.13e+06      5.953      0.000      3.24e+07  6.44e+07\n",
       "Genre[T.black comedy]      -8.242e+06   1.22e+07     -0.676      0.499     -3.22e+07  1.57e+07\n",
       "Genre[T.comedy]              1.47e+07   6.96e+06      2.112      0.035      1.04e+06  2.84e+07\n",
       "Genre[T.drama]              6.377e+06   6.68e+06      0.954      0.340     -6.74e+06  1.95e+07\n",
       "Genre[T.horror]             1.146e+07   7.16e+06      1.599      0.110      -2.6e+06  2.55e+07\n",
       "Genre[T.musical]            6.949e+06   2.36e+07      0.294      0.769     -3.94e+07  5.33e+07\n",
       "Genre[T.romantic comedy]    3.221e+06   1.64e+07      0.196      0.845      -2.9e+07  3.55e+07\n",
       "Genre[T.thriller/suspense]  3.591e+06   6.91e+06      0.520      0.603     -9.96e+06  1.71e+07\n",
       "Genre[T.western]            3.204e+07   2.09e+07      1.534      0.125     -8.94e+06   7.3e+07\n",
       "ProductionBudget               1.1845      0.049     24.271      0.000         1.089     1.280\n",
       "deathcount                  5340.4078   3772.382      1.416      0.157     -2062.939  1.27e+04\n",
       "==============================================================================\n",
       "Omnibus:                      437.146   Durbin-Watson:                   1.593\n",
       "Prob(Omnibus):                  0.000   Jarque-Bera (JB):             3430.737\n",
       "Skew:                           1.948   Prob(JB):                         0.00\n",
       "Kurtosis:                      11.488   Cond. No.                     7.87e+08\n",
       "==============================================================================\n",
       "\n",
       "Warnings:\n",
       "[1] Standard Errors assume that the covariance matrix of the errors is correctly specified.\n",
       "[2] The condition number is large, 7.87e+08. This might indicate that there are\n",
       "strong multicollinearity or other numerical problems.\n",
       "\"\"\""
      ]
     },
     "execution_count": 44,
     "metadata": {},
     "output_type": "execute_result"
    }
   ],
   "source": [
    "Y, x = dmatrices('BoxOffice ~ ProductionBudget + Genre + deathcount', data=final_data_frame_monday, return_type='dataframe')\n",
    "# This sets BoxOffice as our dependent variable. Everything after the ~ is combined into intercepts as one massive variable.\n",
    "model = sm.OLS(Y, x)\n",
    "results = model.fit()\n",
    "results.summary()"
   ]
  },
  {
   "cell_type": "code",
   "execution_count": 53,
   "metadata": {
    "collapsed": false
   },
   "outputs": [
    {
     "data": {
      "text/html": [
       "<table class=\"simpletable\">\n",
       "<caption>OLS Regression Results</caption>\n",
       "<tr>\n",
       "  <th>Dep. Variable:</th>        <td>BoxOffice</td>    <th>  R-squared:         </th> <td>   0.205</td> \n",
       "</tr>\n",
       "<tr>\n",
       "  <th>Model:</th>                   <td>OLS</td>       <th>  Adj. R-squared:    </th> <td>   0.196</td> \n",
       "</tr>\n",
       "<tr>\n",
       "  <th>Method:</th>             <td>Least Squares</td>  <th>  F-statistic:       </th> <td>   24.01</td> \n",
       "</tr>\n",
       "<tr>\n",
       "  <th>Date:</th>             <td>Mon, 28 Mar 2016</td> <th>  Prob (F-statistic):</th> <td>1.46e-40</td> \n",
       "</tr>\n",
       "<tr>\n",
       "  <th>Time:</th>                 <td>09:32:55</td>     <th>  Log-Likelihood:    </th> <td> -18489.</td> \n",
       "</tr>\n",
       "<tr>\n",
       "  <th>No. Observations:</th>      <td>   944</td>      <th>  AIC:               </th> <td>3.700e+04</td>\n",
       "</tr>\n",
       "<tr>\n",
       "  <th>Df Residuals:</th>          <td>   933</td>      <th>  BIC:               </th> <td>3.705e+04</td>\n",
       "</tr>\n",
       "<tr>\n",
       "  <th>Df Model:</th>              <td>    10</td>      <th>                     </th>     <td> </td>    \n",
       "</tr>\n",
       "<tr>\n",
       "  <th>Covariance Type:</th>      <td>nonrobust</td>    <th>                     </th>     <td> </td>    \n",
       "</tr>\n",
       "</table>\n",
       "<table class=\"simpletable\">\n",
       "<tr>\n",
       "               <td></td>                 <th>coef</th>     <th>std err</th>      <th>t</th>      <th>P>|t|</th> <th>[95.0% Conf. Int.]</th> \n",
       "</tr>\n",
       "<tr>\n",
       "  <th>Intercept</th>                  <td>  8.82e+07</td> <td> 5.64e+06</td> <td>   15.641</td> <td> 0.000</td> <td> 7.71e+07  9.93e+07</td>\n",
       "</tr>\n",
       "<tr>\n",
       "  <th>Genre[T.adventure]</th>         <td> 8.864e+07</td> <td> 1.02e+07</td> <td>    8.720</td> <td> 0.000</td> <td> 6.87e+07  1.09e+08</td>\n",
       "</tr>\n",
       "<tr>\n",
       "  <th>Genre[T.black comedy]</th>      <td>-6.231e+07</td> <td> 1.53e+07</td> <td>   -4.069</td> <td> 0.000</td> <td>-9.24e+07 -3.23e+07</td>\n",
       "</tr>\n",
       "<tr>\n",
       "  <th>Genre[T.comedy]</th>            <td>-2.984e+07</td> <td> 8.57e+06</td> <td>   -3.480</td> <td> 0.001</td> <td>-4.67e+07  -1.3e+07</td>\n",
       "</tr>\n",
       "<tr>\n",
       "  <th>Genre[T.drama]</th>             <td>-3.907e+07</td> <td> 8.19e+06</td> <td>   -4.770</td> <td> 0.000</td> <td>-5.51e+07  -2.3e+07</td>\n",
       "</tr>\n",
       "<tr>\n",
       "  <th>Genre[T.horror]</th>            <td>-5.133e+07</td> <td> 8.53e+06</td> <td>   -6.019</td> <td> 0.000</td> <td>-6.81e+07 -3.46e+07</td>\n",
       "</tr>\n",
       "<tr>\n",
       "  <th>Genre[T.musical]</th>           <td>-4.713e+07</td> <td>    3e+07</td> <td>   -1.571</td> <td> 0.117</td> <td>-1.06e+08  1.18e+07</td>\n",
       "</tr>\n",
       "<tr>\n",
       "  <th>Genre[T.romantic comedy]</th>   <td>-2.901e+07</td> <td> 2.09e+07</td> <td>   -1.387</td> <td> 0.166</td> <td>-7.01e+07   1.2e+07</td>\n",
       "</tr>\n",
       "<tr>\n",
       "  <th>Genre[T.thriller/suspense]</th> <td>-3.077e+07</td> <td> 8.63e+06</td> <td>   -3.565</td> <td> 0.000</td> <td>-4.77e+07 -1.38e+07</td>\n",
       "</tr>\n",
       "<tr>\n",
       "  <th>Genre[T.western]</th>           <td>-4.835e+06</td> <td> 2.66e+07</td> <td>   -0.182</td> <td> 0.856</td> <td> -5.7e+07  4.73e+07</td>\n",
       "</tr>\n",
       "<tr>\n",
       "  <th>deathcount</th>                 <td> 1.325e+04</td> <td> 4798.706</td> <td>    2.761</td> <td> 0.006</td> <td> 3833.681  2.27e+04</td>\n",
       "</tr>\n",
       "</table>\n",
       "<table class=\"simpletable\">\n",
       "<tr>\n",
       "  <th>Omnibus:</th>       <td>614.019</td> <th>  Durbin-Watson:     </th> <td>   1.423</td>\n",
       "</tr>\n",
       "<tr>\n",
       "  <th>Prob(Omnibus):</th> <td> 0.000</td>  <th>  Jarque-Bera (JB):  </th> <td>9568.214</td>\n",
       "</tr>\n",
       "<tr>\n",
       "  <th>Skew:</th>          <td> 2.736</td>  <th>  Prob(JB):          </th> <td>    0.00</td>\n",
       "</tr>\n",
       "<tr>\n",
       "  <th>Kurtosis:</th>      <td>17.606</td>  <th>  Cond. No.          </th> <td>6.51e+03</td>\n",
       "</tr>\n",
       "</table>"
      ],
      "text/plain": [
       "<class 'statsmodels.iolib.summary.Summary'>\n",
       "\"\"\"\n",
       "                            OLS Regression Results                            \n",
       "==============================================================================\n",
       "Dep. Variable:              BoxOffice   R-squared:                       0.205\n",
       "Model:                            OLS   Adj. R-squared:                  0.196\n",
       "Method:                 Least Squares   F-statistic:                     24.01\n",
       "Date:                Mon, 28 Mar 2016   Prob (F-statistic):           1.46e-40\n",
       "Time:                        09:32:55   Log-Likelihood:                -18489.\n",
       "No. Observations:                 944   AIC:                         3.700e+04\n",
       "Df Residuals:                     933   BIC:                         3.705e+04\n",
       "Df Model:                          10                                         \n",
       "Covariance Type:            nonrobust                                         \n",
       "==============================================================================================\n",
       "                                 coef    std err          t      P>|t|      [95.0% Conf. Int.]\n",
       "----------------------------------------------------------------------------------------------\n",
       "Intercept                    8.82e+07   5.64e+06     15.641      0.000      7.71e+07  9.93e+07\n",
       "Genre[T.adventure]          8.864e+07   1.02e+07      8.720      0.000      6.87e+07  1.09e+08\n",
       "Genre[T.black comedy]      -6.231e+07   1.53e+07     -4.069      0.000     -9.24e+07 -3.23e+07\n",
       "Genre[T.comedy]            -2.984e+07   8.57e+06     -3.480      0.001     -4.67e+07  -1.3e+07\n",
       "Genre[T.drama]             -3.907e+07   8.19e+06     -4.770      0.000     -5.51e+07  -2.3e+07\n",
       "Genre[T.horror]            -5.133e+07   8.53e+06     -6.019      0.000     -6.81e+07 -3.46e+07\n",
       "Genre[T.musical]           -4.713e+07      3e+07     -1.571      0.117     -1.06e+08  1.18e+07\n",
       "Genre[T.romantic comedy]   -2.901e+07   2.09e+07     -1.387      0.166     -7.01e+07   1.2e+07\n",
       "Genre[T.thriller/suspense] -3.077e+07   8.63e+06     -3.565      0.000     -4.77e+07 -1.38e+07\n",
       "Genre[T.western]           -4.835e+06   2.66e+07     -0.182      0.856      -5.7e+07  4.73e+07\n",
       "deathcount                  1.325e+04   4798.706      2.761      0.006      3833.681  2.27e+04\n",
       "==============================================================================\n",
       "Omnibus:                      614.019   Durbin-Watson:                   1.423\n",
       "Prob(Omnibus):                  0.000   Jarque-Bera (JB):             9568.214\n",
       "Skew:                           2.736   Prob(JB):                         0.00\n",
       "Kurtosis:                      17.606   Cond. No.                     6.51e+03\n",
       "==============================================================================\n",
       "\n",
       "Warnings:\n",
       "[1] Standard Errors assume that the covariance matrix of the errors is correctly specified.\n",
       "[2] The condition number is large, 6.51e+03. This might indicate that there are\n",
       "strong multicollinearity or other numerical problems.\n",
       "\"\"\""
      ]
     },
     "execution_count": 53,
     "metadata": {},
     "output_type": "execute_result"
    }
   ],
   "source": [
    "Y, x = dmatrices('BoxOffice ~ deathcount + Genre', data=final_data_frame_monday, return_type='dataframe')\n",
    "# This sets BoxOffice as our dependent variable. Everything after the ~ is combined into intercepts as one massive variable.\n",
    "model = sm.OLS(Y, x)\n",
    "results = model.fit()\n",
    "results.summary()"
   ]
  },
  {
   "cell_type": "markdown",
   "metadata": {},
   "source": [
    "### 5. Documentation of the data:"
   ]
  },
  {
   "cell_type": "markdown",
   "metadata": {},
   "source": [
    "Budget and financial data of movies: http://www.the-numbers.com/movie/budgets/all"
   ]
  },
  {
   "cell_type": "code",
   "execution_count": null,
   "metadata": {
    "collapsed": true
   },
   "outputs": [],
   "source": []
  },
  {
   "cell_type": "code",
   "execution_count": null,
   "metadata": {
    "collapsed": true
   },
   "outputs": [],
   "source": []
  }
 ],
 "metadata": {
  "kernelspec": {
   "display_name": "Python 3",
   "language": "python",
   "name": "python3"
  },
  "language_info": {
   "codemirror_mode": {
    "name": "ipython",
    "version": 3
   },
   "file_extension": ".py",
   "mimetype": "text/x-python",
   "name": "python",
   "nbconvert_exporter": "python",
   "pygments_lexer": "ipython3",
   "version": "3.5.1"
  }
 },
 "nbformat": 4,
 "nbformat_minor": 0
}
