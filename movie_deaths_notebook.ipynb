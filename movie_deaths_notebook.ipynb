{
 "cells": [
  {
   "cell_type": "markdown",
   "metadata": {},
   "source": [
    "# I See Dead People: An Analysis"
   ]
  },
  {
   "cell_type": "markdown",
   "metadata": {},
   "source": [
    "Bryan Bumgardner, Data Scientist  \n",
    "February - March 2016"
   ]
  },
  {
   "cell_type": "markdown",
   "metadata": {},
   "source": [
    "<img src=\"images/michaelguns.gif\">"
   ]
  },
  {
   "cell_type": "markdown",
   "metadata": {},
   "source": [
    "### We love watching violence.   \n",
    "That being said, it's worth studying how it fits in our popular culture. During the Metis Data Science bootcamp (shameless plug), while working on another project I discovered bodycounters.com[http://www.bodycounters.com/]. The dedicated volunteers at this site count and categorize the number of deaths in movies, and to date, have counted for over 2,000 movies. Go grab some beers, count the dead people in your favorite movie, and contribute to the site. \n",
    "\n",
    "The data are sitting on their site for anyone to see, and it gave me an idea. I reached out to the site and had some correspondence with Dana, who was gracious enough to share a CSV of all the data. I then cross referenced this data with information from another site, thenumbers.com, which shares basic budget and financial information about thousands of movies. I took this data, mashed it together, and asked some questions. \n",
    "\n",
    "Thanks again to the volunteers at bodycounters. Y'all are the greatest. Below is a quick data science passion project to analyze and find patterns in this great data you've collected. "
   ]
  },
  {
   "cell_type": "markdown",
   "metadata": {},
   "source": [
    "### Major questions:\n",
    "1. Is the amount of on-screen deaths going up in modern movies?\n",
    "\n",
    "2. Does a movie's death count have an effect on that movie's domestic gross?\n",
    "3. How does budget factor into a movie's death count?\n",
    "4. Is there a relationship between the movie's MPAA rating and body count?\n",
    "5. What about death count and genre?\n"
   ]
  },
  {
   "cell_type": "markdown",
   "metadata": {},
   "source": [
    "### Table of Contents:\n",
    "1. Reading and combining the data\n",
    "2. Outputting various data frames\n",
    "3. Visualizing\n",
    "4. Conclusions\n",
    "5. Documentation of the data"
   ]
  },
  {
   "cell_type": "code",
   "execution_count": 1,
   "metadata": {
    "collapsed": false
   },
   "outputs": [],
   "source": [
    "import pandas as pd \n",
    "import numpy as np\n",
    "import csv\n",
    "import os\n",
    "from datetime import datetime\n",
    "from future.builtins import next\n",
    "import re\n",
    "import logging\n",
    "import optparse\n",
    "\n",
    "from difflib import SequenceMatcher\n",
    "\n",
    "import statsmodels.api as sm\n",
    "import statsmodels.formula.api as smf\n",
    "\n",
    "from sklearn.linear_model import LinearRegression \n",
    "from patsy import dmatrices\n",
    "\n",
    "import matplotlib.pyplot as plt, mpld3\n",
    "import seaborn as sns\n",
    "\n",
    "%matplotlib inline\n",
    "sns.set(color_codes=True)"
   ]
  },
  {
   "cell_type": "markdown",
   "metadata": {},
   "source": [
    "### Step 1: read in and clean the data"
   ]
  },
  {
   "cell_type": "markdown",
   "metadata": {},
   "source": [
    "Deaths data is a csv, provided by the wonderful folks at BodyCounters. "
   ]
  },
  {
   "cell_type": "code",
   "execution_count": 2,
   "metadata": {
    "collapsed": false
   },
   "outputs": [
    {
     "name": "stderr",
     "output_type": "stream",
     "text": [
      "/Users/bryanbumgardner/anaconda/lib/python3.5/site-packages/ipykernel/__main__.py:9: FutureWarning: sort(columns=....) is deprecated, use sort_values(by=.....)\n"
     ]
    }
   ],
   "source": [
    "deaths = pd.read_csv(\"data/moviesmovies.csv\", encoding=\"latin-1\", index_col=\"movieskey\") #might as well make use of their key\n",
    "\n",
    "deaths[\"moviename\"] = deaths[\"moviename\"].str.rstrip(\"\\t\").str.lower() #cleaning some trailing spaces and standardizing for the matching\n",
    "deaths[\"deathcomment\"] = deaths[\"deathcomment\"].str.rstrip(\"\\t\")\n",
    "deaths[\"moviename\"] = deaths[\"moviename\"].str.replace(\".\", '')\n",
    "deaths[\"moviename\"] = deaths[\"moviename\"].str.replace(\",\", '')\n",
    "deaths[\"moviename\"] = deaths[\"moviename\"].str.replace(\"/\", '')\n",
    "deaths[\"moviename\"] = deaths[\"moviename\"].str.replace(\"'\", '')\n",
    "deaths = deaths.sort(columns=\"moviename\") #it will match faster if we sort these in alphabetical order\n",
    "\n",
    "deaths.to_csv(\"deathscleaned.csv\", encoding='utf-8') #sending it back out for matching later in OpenRefine"
   ]
  },
  {
   "cell_type": "markdown",
   "metadata": {},
   "source": [
    "Let's scrape all the movie data - EVER - because we are crazy. And also because I'm not interested in paying for access to their database. \n",
    "\n",
    "So what you see below is me scraping all the budgets and domestic box offices for every movie in the alphabetized database. Every letter has a chart with all the movies starting with that letter. I downloaded each webpage from the data source as an HTML webpage then pulled the charts from that, which is less likely to get you banned than hitting up their site with Selenium.\n",
    "\n",
    "I then mashed the charts together into one GIANT dataframe which will be helpful for record linkage. This needs properly cleaned as well."
   ]
  },
  {
   "cell_type": "code",
   "execution_count": 3,
   "metadata": {
    "collapsed": false
   },
   "outputs": [],
   "source": [
    "path = 'movie_pages/' #where the HTML files are\n",
    "listing = os.listdir(path) #read the pages from the directory\n",
    "all_movie_data = pd.DataFrame(columns = ['Release Date', 'Movie', 'Genre', 'ProductionBudget','DomesticBox Officeto Date', 'Trailer'])\n",
    "# empty dataframe waiting for all the goodies\n",
    "\n",
    "for i, infile in enumerate(listing): #iterate through the files in the directory 'path'\n",
    "    temp_list = pd.read_html(\"movie_pages/\"+infile, header=0) #THANK YOU BASED PANDAS. Cleans HTML away and pulls out just the tables.\n",
    "    temp_frame = pd.DataFrame(temp_list[0]) #temp_list is a list of dataframes. Take the first (and only) one\n",
    "    all_movie_data = all_movie_data.append(temp_frame) #append this to the master dataframe \n",
    "    \n",
    "del all_movie_data['Trailer'] #not necessary and screwed up the dropna\n",
    "\n",
    "all_movie_data.rename(columns = {'DomesticBox Officeto Date': 'BoxOffice'}, inplace = True)\n",
    "all_movie_data = all_movie_data.dropna() #drop unneccessary lines with incomplete data"
   ]
  },
  {
   "cell_type": "code",
   "execution_count": 4,
   "metadata": {
    "collapsed": true
   },
   "outputs": [],
   "source": [
    "label_movie_data = all_movie_data #Save this just in case. Might try and do something with the labels, and this has the un-cleaned labels. "
   ]
  },
  {
   "cell_type": "code",
   "execution_count": 5,
   "metadata": {
    "collapsed": false
   },
   "outputs": [
    {
     "name": "stderr",
     "output_type": "stream",
     "text": [
      "/Users/bryanbumgardner/anaconda/lib/python3.5/site-packages/ipykernel/__main__.py:18: FutureWarning: sort(columns=....) is deprecated, use sort_values(by=.....)\n"
     ]
    }
   ],
   "source": [
    "all_movie_data = all_movie_data[all_movie_data.BoxOffice != \"$0\"]\n",
    "all_movie_data = all_movie_data[all_movie_data.ProductionBudget != \"$0\"]\n",
    "# remove all with $0 (I don't know those values got recorded? Negligence on the site, I think.)\n",
    "\n",
    "#Formatting all the data so it's actually useful and easier to sum, average, and categorize, along with effective timestamps. \n",
    "\n",
    "all_movie_data[\"Movie\"] = all_movie_data[\"Movie\"].str.lower()\n",
    "all_movie_data[\"Movie\"] = all_movie_data[\"Movie\"].str.replace(\".\", '')\n",
    "all_movie_data[\"Movie\"] = all_movie_data[\"Movie\"].str.replace(\",\", '')\n",
    "all_movie_data[\"Movie\"] = all_movie_data[\"Movie\"].str.replace(\")\", '')\n",
    "all_movie_data[\"Movie\"] = all_movie_data[\"Movie\"].str.replace(\"'\", '') # fuck it we'll do it live. Can you clean this up?\n",
    "all_movie_data[\"Movie\"] = all_movie_data[\"Movie\"].str.replace(\"(\", '')\n",
    "all_movie_data[\"Genre\"] = all_movie_data[\"Genre\"].str.lower()\n",
    "all_movie_data[\"ProductionBudget\"] = all_movie_data[\"ProductionBudget\"].str.strip('$')\n",
    "all_movie_data[\"ProductionBudget\"] = all_movie_data[\"ProductionBudget\"].str.replace(\",\", '')\n",
    "all_movie_data[\"BoxOffice\"] = all_movie_data[\"BoxOffice\"].str.strip('$')\n",
    "all_movie_data[\"BoxOffice\"] = all_movie_data[\"BoxOffice\"].str.replace(\",\", '')\n",
    "all_movie_data = all_movie_data.sort(columns=\"Movie\")\n"
   ]
  },
  {
   "cell_type": "code",
   "execution_count": 6,
   "metadata": {
    "collapsed": false
   },
   "outputs": [],
   "source": [
    "all_movie_data[\"Release Date\"] = pd.to_datetime(all_movie_data[\"Release Date\"], format='%b %d, %Y')\n",
    "# pulled this out to try and identify where my data was getting corrupted\n",
    "all_movie_data.to_csv(\"all_movie_data.csv\", encoding='utf-8')\n",
    "# exporting the clean CSV for record linkage"
   ]
  },
  {
   "cell_type": "markdown",
   "metadata": {
    "collapsed": true
   },
   "source": [
    "Ok so I'm really lazy and looked into how well these would match with Excel. Turns out the data is filthy and won't match well at all. There are extreme inconsistencies in movie names from both datasets. So I'll have to do fuzzy matching."
   ]
  },
  {
   "cell_type": "markdown",
   "metadata": {
    "collapsed": false
   },
   "source": [
    "### Step 2. Combine the data using record linkage"
   ]
  },
  {
   "cell_type": "markdown",
   "metadata": {},
   "source": [
    "So the Pandas dataframe-compatible record linkage package, recordlinkage, is turned off right now. I'm still trying to learn how to do this with something called FuzzyWuzzy, which is what you see below.\n",
    "\n",
    "However, I used OpenRefine to connect the datasets outside of Python, then I'm reading it back into here as a CSV. This was much faster but doesn't scale well, so a true Python script is needed long term.\n",
    "\n",
    "I did the quick cleaning by using OpenRefine's built-in matching powers mixed with this great fuzzy string reading service that emphasizes reconciliation:\n",
    "http://okfnlabs.org/reconcile-csv/"
   ]
  },
  {
   "cell_type": "code",
   "execution_count": null,
   "metadata": {
    "collapsed": false
   },
   "outputs": [],
   "source": [
    "\"\"\"#preparing the target dataframe\n",
    "merged_movie_data = pd.DataFrame(columns = ['Movie', 'ReleaseDate', 'Genre', 'ProductionBudget', 'BoxOffice', 'DeathCount'])\n",
    "test_dataframe = pd.DataFrame(columns = ['name_ratio', 'name_token_sort_ratio', 'name_partial_ratio', 'match'])\n",
    "test_death_count = deaths[:100]\n",
    "test_movie_data = all_movie_data[:100] #gonna see how this works\n",
    "\"\"\"\n",
    "\n",
    "#This is all under construction!!"
   ]
  },
  {
   "cell_type": "code",
   "execution_count": null,
   "metadata": {
    "collapsed": false
   },
   "outputs": [],
   "source": [
    "\"\"\"for row in test_movie_data.iterrows():\n",
    "    current_movie_name = test_movie_data[\"Movie\"]\n",
    "    \n",
    "    \n",
    "        for row2 in test_death_count.iterrows():\n",
    "            second_movie_name = test_death_count[\"moviename\"]\n",
    "            second_movie_death_count = test_death_count[\"deathcount\"]\n",
    "            \n",
    "            \n",
    "    m = SequenceMatcher(None, current_movie_name, second_movie_name)\n",
    "    if m.ratio() > 96:\n",
    "        test_movie_data[\"DeathCount\"] = test_movie_data[\"DeathCount\"].append(second_movie_death_count)\n",
    "        \n",
    "        test_death_count.iterrows()\n",
    "row = next(test_death_count.iterrows())\n",
    "\n",
    "def send_back_first_title(test_movie_data)\n",
    "    for row in test_movie_data.iterrows():\n",
    "        current_movie_name = test_movie_data[\"Movie\"]\"\"\"\n",
    "\n",
    "# Skip past this! "
   ]
  },
  {
   "cell_type": "markdown",
   "metadata": {},
   "source": [
    "# XTREME VIOLENCE ALERT"
   ]
  },
  {
   "cell_type": "markdown",
   "metadata": {},
   "source": [
    "<img src=\"images/bloodies.gif\">"
   ]
  },
  {
   "cell_type": "markdown",
   "metadata": {},
   "source": [
    "I discovered the dataset contained LOTS of speculation, guesstimations of body counts on exploded planets, in destroyed spaceships, etc. Many movies had upwards of 1 billion deaths. Knowing this data isn't representative of personal, on-screen images of death, I removed all movies with more than 100,000 recorded deaths. Just in case, I kept the outliers in a second frame, as I noticed many of them were high-budget blockbusters - that could be relevant."
   ]
  },
  {
   "cell_type": "code",
   "execution_count": 7,
   "metadata": {
    "collapsed": false
   },
   "outputs": [],
   "source": [
    "final_data_frame_minus_outliers = pd.read_csv(\"finalcleaneddata.csv\", encoding=\"latin-1\") #no outliers\n",
    "final_data_frame_complete = pd.read_csv(\"untouchedfinaldata.csv\", encoding=\"latin-1\") #with outliers"
   ]
  },
  {
   "cell_type": "code",
   "execution_count": 8,
   "metadata": {
    "collapsed": false
   },
   "outputs": [],
   "source": [
    "final_data_frame_minus_outliers = final_data_frame_minus_outliers.dropna() # In the pairing process, we had some movies with missing values\n",
    "final_data_frame_complete = final_data_frame_complete.dropna()\n",
    "\n",
    "final_data_frame_minus_outliers = final_data_frame_minus_outliers.drop(\"index\", 1)\n",
    "final_data_frame_complete = final_data_frame_complete.drop(\"index\", 1)\n",
    "#drop some extra stuff that was only useful during linkage. \n",
    "\n",
    "final_data_frame_minus_outliers[\"ReleaseDate\"] = pd.to_datetime(final_data_frame_minus_outliers[\"ReleaseDate\"], format=\"%m/%d/%Y\")\n",
    "final_data_frame_complete[\"ReleaseDate\"] = pd.to_datetime(final_data_frame_complete[\"ReleaseDate\"], format=\"%m/%d/%Y\")\n",
    "#fitting to my required datetime needs"
   ]
  },
  {
   "cell_type": "code",
   "execution_count": 9,
   "metadata": {
    "collapsed": false
   },
   "outputs": [
    {
     "data": {
      "text/plain": [
       "1040"
      ]
     },
     "execution_count": 9,
     "metadata": {},
     "output_type": "execute_result"
    }
   ],
   "source": [
    "pd.options.display.max_rows = 1050 #change this if you ever need to explore the data\n",
    "len(final_data_frame_minus_outliers) #so 1040 movies minus the outliers. "
   ]
  },
  {
   "cell_type": "code",
   "execution_count": 10,
   "metadata": {
    "collapsed": false
   },
   "outputs": [
    {
     "data": {
      "text/plain": [
       "1060"
      ]
     },
     "execution_count": 10,
     "metadata": {},
     "output_type": "execute_result"
    }
   ],
   "source": [
    "len(final_data_frame_complete) #count of all movies."
   ]
  },
  {
   "cell_type": "code",
   "execution_count": 11,
   "metadata": {
    "collapsed": false
   },
   "outputs": [
    {
     "data": {
      "text/html": [
       "<div>\n",
       "<table border=\"1\" class=\"dataframe\">\n",
       "  <thead>\n",
       "    <tr style=\"text-align: right;\">\n",
       "      <th></th>\n",
       "      <th>moviename</th>\n",
       "      <th>BoxOffice</th>\n",
       "      <th>ProductionBudget</th>\n",
       "      <th>Genre</th>\n",
       "      <th>ReleaseDate</th>\n",
       "      <th>deathcount</th>\n",
       "      <th>deathcomment</th>\n",
       "    </tr>\n",
       "  </thead>\n",
       "  <tbody>\n",
       "    <tr>\n",
       "      <th>4</th>\n",
       "      <td>13 going on 30</td>\n",
       "      <td>57139723</td>\n",
       "      <td>30000000</td>\n",
       "      <td>comedy</td>\n",
       "      <td>2004-04-23</td>\n",
       "      <td>0</td>\n",
       "      <td>0</td>\n",
       "    </tr>\n",
       "  </tbody>\n",
       "</table>\n",
       "</div>"
      ],
      "text/plain": [
       "        moviename  BoxOffice  ProductionBudget   Genre ReleaseDate  \\\n",
       "4  13 going on 30   57139723          30000000  comedy  2004-04-23   \n",
       "\n",
       "   deathcount deathcomment  \n",
       "4           0            0  "
      ]
     },
     "execution_count": 11,
     "metadata": {},
     "output_type": "execute_result"
    }
   ],
   "source": [
    "final_data_frame_complete.head(1)"
   ]
  },
  {
   "cell_type": "code",
   "execution_count": 13,
   "metadata": {
    "collapsed": false
   },
   "outputs": [],
   "source": [
    "#We have to export this as a CSV for the D3 visualization later on. \n",
    "final_data_frame_complete.to_csv(\"d3/final_data_frame_complete.csv\", encoding='utf-8')\n",
    "final_data_frame_minus_outliers.to_csv(\"d3/final_data_frame_minus_outliers.csv\", encoding='utf-8')"
   ]
  },
  {
   "cell_type": "markdown",
   "metadata": {},
   "source": [
    "So we have all our stuff and some extra fun comments that will be interesting during visualization. Only twenty movies were removed during the outlier cleaning. "
   ]
  },
  {
   "cell_type": "markdown",
   "metadata": {},
   "source": [
    "### Step 3: Statistical Analysis\n",
    "Now that we have the data, let's revisit the questions we asked and find the best models to answer them."
   ]
  },
  {
   "cell_type": "markdown",
   "metadata": {},
   "source": [
    "### Initial Analysis: what factors influence box office revenue?"
   ]
  },
  {
   "cell_type": "code",
   "execution_count": null,
   "metadata": {
    "collapsed": false
   },
   "outputs": [],
   "source": [
    "Y, x = dmatrices('BoxOffice ~ ProductionBudget + Genre + deathcount + ReleaseDate', data=final_data_frame_complete, return_type='dataframe')\n",
    "# This sets BoxOffice as our dependent variable. Everything after the ~ is combined into intercepts as one massive variable.\n",
    "model = sm.OLS(Y, x)\n",
    "results = model.fit()\n",
    "results.summary()"
   ]
  },
  {
   "cell_type": "markdown",
   "metadata": {},
   "source": [
    "So as you can see, the movie's genre and production budget has more of an effect on the box office than the deathcount, at least in this model.  \n",
    "Including the release dates (which are all basically unique) greatly improves the P values of the other variables.\n",
    "### Insight into the genres  \n",
    "Movies with better chances of guaranteed high profit: adventure, drama, horror, thriller/suspense.\n",
    "Movies with highly variable chances for high profit: black comedy, comedy\n",
    "Movies with unclear outcomes: Romantic comedy, westerns\n",
    "Movies that don't do well: Musicals"
   ]
  },
  {
   "cell_type": "code",
   "execution_count": null,
   "metadata": {
    "collapsed": true
   },
   "outputs": [],
   "source": [
    "# write out in better detail why this is happening. "
   ]
  },
  {
   "cell_type": "markdown",
   "metadata": {},
   "source": [
    "### Is the amount of on-screen deaths going up in modern movies?   \n",
    "Technique to solve this: create an average of deaths per year in movies. \n",
    "\n"
   ]
  },
  {
   "cell_type": "code",
   "execution_count": null,
   "metadata": {
    "collapsed": false
   },
   "outputs": [],
   "source": [
    "average_deaths = final_data_frame_minus_outliers[[\"ReleaseDate\", \"deathcount\", \"Genre\"]] #taking Genre for visualization. I have a hunch..."
   ]
  },
  {
   "cell_type": "code",
   "execution_count": null,
   "metadata": {
    "collapsed": false
   },
   "outputs": [],
   "source": [
    "average_deaths[\"Year\"] = average_deaths[\"ReleaseDate\"].map(lambda x: x.strftime('%Y'))\n",
    "# strip just the year from the datetime object and put it into it's own column\n",
    "# This is a deep copy warning, it's not an error. Ignore this for now, it's not causing a problem. "
   ]
  },
  {
   "cell_type": "markdown",
   "metadata": {},
   "source": [
    "A quick statistical test to see if year has a big effect on movie count. Averages aren't great, but this is just a top level view. "
   ]
  },
  {
   "cell_type": "code",
   "execution_count": null,
   "metadata": {
    "collapsed": false
   },
   "outputs": [],
   "source": [
    "cleaned_average_deaths = average_deaths.groupby(['Year']).mean().reset_index() #group by the year, get the mean of the deathcounts,\n",
    "# and use reset_index to move the year into it's own column instead of using it as the index. Just personal preference.\n",
    "\n",
    "x = pd.to_numeric(cleaned_average_deaths[\"Year\"]) #for modeling, these types must be numeric. Originally were floats. \n",
    "y = pd.to_numeric(cleaned_average_deaths[\"deathcount\"])\n",
    "\n",
    "model = sm.OLS(x, y) #Linear Regression with Ordinary Least Squares.\n",
    "results = model.fit()\n",
    "results.summary()"
   ]
  },
  {
   "cell_type": "code",
   "execution_count": null,
   "metadata": {
    "collapsed": false
   },
   "outputs": [],
   "source": [
    "#sns.regplot(x=\"Year\", y=\"deathcount\", data=cleaned_average_deaths)\n",
    "plt.scatter(x,y)"
   ]
  },
  {
   "cell_type": "markdown",
   "metadata": {},
   "source": [
    "At first glance, it appears that death counts are going up. This requires a little more analysis - perhaps a histogram or box plot. That can happen later."
   ]
  },
  {
   "cell_type": "markdown",
   "metadata": {},
   "source": [
    "### What factors affect a movie's death count, then?"
   ]
  },
  {
   "cell_type": "code",
   "execution_count": null,
   "metadata": {
    "collapsed": false
   },
   "outputs": [],
   "source": [
    "Y, x = dmatrices('deathcount ~ ProductionBudget + Genre + ReleaseDate + BoxOffice', data=final_data_frame_minus_outliers, return_type='dataframe')\n",
    "# left out Box Office because that number is determined chronologically. The amount of deaths won't change post-production of a movie.\n",
    "model = sm.OLS(Y, x)\n",
    "results = model.fit()\n",
    "results.summary()\n",
    "# Production budget, obviously"
   ]
  },
  {
   "cell_type": "markdown",
   "metadata": {
    "collapsed": false
   },
   "source": [
    "### What affects a movie's production budget?"
   ]
  },
  {
   "cell_type": "code",
   "execution_count": null,
   "metadata": {
    "collapsed": false
   },
   "outputs": [],
   "source": [
    "Y, x = dmatrices('ProductionBudget ~ deathcount + Genre + ReleaseDate', data=final_data_frame_minus_outliers, return_type='dataframe')\n",
    "#  Same here. Left out Box Office because that number is determined chronologically.\n",
    "model = sm.OLS(Y, x)\n",
    "results = model.fit()\n",
    "results.summary()\n",
    "#LOL Some of these genres don't get shit for budgets. "
   ]
  },
  {
   "cell_type": "code",
   "execution_count": null,
   "metadata": {
    "collapsed": true
   },
   "outputs": [],
   "source": []
  },
  {
   "cell_type": "code",
   "execution_count": null,
   "metadata": {
    "collapsed": true
   },
   "outputs": [],
   "source": []
  },
  {
   "cell_type": "markdown",
   "metadata": {
    "collapsed": false
   },
   "source": [
    "### Step 4. Visualizing "
   ]
  },
  {
   "cell_type": "code",
   "execution_count": null,
   "metadata": {
    "collapsed": false
   },
   "outputs": [],
   "source": [
    "final_data_frame_complete.head(1)"
   ]
  },
  {
   "cell_type": "code",
   "execution_count": null,
   "metadata": {
    "collapsed": false
   },
   "outputs": [],
   "source": [
    "sns.regplot(x=\"BoxOffice\", y=\"ProductionBudget\", data=final_data_frame_minus_outliers)"
   ]
  },
  {
   "cell_type": "code",
   "execution_count": null,
   "metadata": {
    "collapsed": false
   },
   "outputs": [],
   "source": [
    "sns.boxplot(x=\"ProductionBudget\", y=\"Genre\", data=final_data_frame_minus_outliers);"
   ]
  },
  {
   "cell_type": "code",
   "execution_count": null,
   "metadata": {
    "collapsed": false
   },
   "outputs": [],
   "source": [
    "sns.boxplot(x=\"BoxOffice\", y=\"Genre\", data=final_data_frame_minus_outliers);"
   ]
  },
  {
   "cell_type": "code",
   "execution_count": null,
   "metadata": {
    "collapsed": false
   },
   "outputs": [],
   "source": [
    "final_data_frame_complete.head(1)"
   ]
  },
  {
   "cell_type": "markdown",
   "metadata": {},
   "source": [
    "A final D3 visualization:"
   ]
  },
  {
   "cell_type": "code",
   "execution_count": null,
   "metadata": {
    "collapsed": false
   },
   "outputs": [],
   "source": []
  },
  {
   "cell_type": "markdown",
   "metadata": {},
   "source": [
    "### 5. Documentation of the data:"
   ]
  },
  {
   "cell_type": "markdown",
   "metadata": {},
   "source": [
    "Budget and financial data of movies: http://www.the-numbers.com/movie/budgets/all"
   ]
  },
  {
   "cell_type": "code",
   "execution_count": null,
   "metadata": {
    "collapsed": true
   },
   "outputs": [],
   "source": []
  },
  {
   "cell_type": "code",
   "execution_count": null,
   "metadata": {
    "collapsed": true
   },
   "outputs": [],
   "source": []
  }
 ],
 "metadata": {
  "kernelspec": {
   "display_name": "Python 3",
   "language": "python",
   "name": "python3"
  },
  "language_info": {
   "codemirror_mode": {
    "name": "ipython",
    "version": 3
   },
   "file_extension": ".py",
   "mimetype": "text/x-python",
   "name": "python",
   "nbconvert_exporter": "python",
   "pygments_lexer": "ipython3",
   "version": "3.5.1"
  }
 },
 "nbformat": 4,
 "nbformat_minor": 0
}
