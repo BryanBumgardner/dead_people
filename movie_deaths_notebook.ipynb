{
 "cells": [
  {
   "cell_type": "markdown",
   "metadata": {},
   "source": [
    "# I See Dead People: An Analysis"
   ]
  },
  {
   "cell_type": "markdown",
   "metadata": {},
   "source": [
    "Bryan Bumgardner, Data Scientist  \n",
    "February - March 2016"
   ]
  },
  {
   "cell_type": "markdown",
   "metadata": {},
   "source": [
    "### Death is a fact of life.   \n",
    "That being said, it's worth studying how it fits in our popular culture. During the Metis Data Science bootcamp (shameless plug), while working on another project I discovered bodycounters.com[http://www.bodycounters.com/]. The dedicated volunteers at this site count and categorize the number of deaths in movies, and to date, have counted for over 2,000 movies. Go grab some beers, count the dead people in your favorite movie, and contribute to the site. \n",
    "\n",
    "The data are sitting on their site for anyone to see, and it gave me an idea. I reached out to the site and had some correspondence with Dana, who was gracious enough to share a CSV of all the data. I then cross referenced this data with information from another site, thenumbers.com, which shares basic budget and financial information about thousands of movies. I took this data, mashed it together, and asked some questions. \n",
    "\n",
    "Thanks again to the volunteers at bodycounters. Y'all are the greatest. Below is a quick data science passion project to analyze and find patterns in this great data you've collected. "
   ]
  },
  {
   "cell_type": "markdown",
   "metadata": {},
   "source": [
    "### Major questions:\n",
    "1. Is the amount of on-screen deaths going up in modern movies?\n",
    "\n",
    "2. Does a movie's death count have an effect on that movie's domestic gross?\n",
    "3. How does budget factor into a movie's death count?\n",
    "4. Is there a relationship between the movie's MPAA rating and body count?\n",
    "5. What about death count and genre?\n"
   ]
  },
  {
   "cell_type": "markdown",
   "metadata": {},
   "source": [
    "### Table of Contents:\n",
    "1. Reading and combining the data\n",
    "2. Outputting various data frames\n",
    "3. Visualizing\n",
    "4. Conclusions\n",
    "5. Documentation of the data"
   ]
  },
  {
   "cell_type": "code",
   "execution_count": 31,
   "metadata": {
    "collapsed": false
   },
   "outputs": [],
   "source": [
    "import pandas as pd \n",
    "import numpy as np\n",
    "import csv\n",
    "import os\n",
    "from datetime import datetime\n",
    "from future.builtins import next\n",
    "import re\n",
    "import logging\n",
    "import optparse\n",
    "\n",
    "from fuzzywuzzy import fuzz\n",
    "from difflib import SequenceMatcher\n",
    "\n",
    "import statsmodels.api as sm\n",
    "import statsmodels.formula.api as smf\n",
    "\n",
    "from sklearn.linear_model import LinearRegression \n",
    "from patsy import dmatrices\n",
    "\n",
    "import matplotlib.pyplot as plt\n",
    "import matplotlib as mpl\n",
    "import seaborn as sns\n",
    "\n",
    "%matplotlib inline\n",
    "sns.set(color_codes=True)"
   ]
  },
  {
   "cell_type": "markdown",
   "metadata": {},
   "source": [
    "### Step 1: read in and clean the data"
   ]
  },
  {
   "cell_type": "markdown",
   "metadata": {},
   "source": [
    "Deaths data is a csv, provided by the wonderful folks at BodyCounters. "
   ]
  },
  {
   "cell_type": "code",
   "execution_count": 105,
   "metadata": {
    "collapsed": false
   },
   "outputs": [
    {
     "name": "stderr",
     "output_type": "stream",
     "text": [
      "/Users/bryanbumgardner/anaconda/lib/python3.5/site-packages/ipykernel/__main__.py:9: FutureWarning: sort(columns=....) is deprecated, use sort_values(by=.....)\n"
     ]
    }
   ],
   "source": [
    "deaths = pd.read_csv(\"moviesmovies.csv\", encoding=\"latin-1\", index_col=\"movieskey\") #might as well make use of their key\n",
    "\n",
    "deaths[\"moviename\"] = deaths[\"moviename\"].str.rstrip(\"\\t\").str.lower() #cleaning some trailing spaces and standardizing for the matching\n",
    "deaths[\"deathcomment\"] = deaths[\"deathcomment\"].str.rstrip(\"\\t\")\n",
    "deaths[\"moviename\"] = deaths[\"moviename\"].str.replace(\".\", '')\n",
    "deaths[\"moviename\"] = deaths[\"moviename\"].str.replace(\",\", '')\n",
    "deaths[\"moviename\"] = deaths[\"moviename\"].str.replace(\"/\", '')\n",
    "deaths[\"moviename\"] = deaths[\"moviename\"].str.replace(\"'\", '')\n",
    "deaths = deaths.sort(columns=\"moviename\") #it will match faster if we sort these in alphabetical order\n",
    "\n",
    "# Grabbed a lot of the budget data from the website by saving it as a html, because the site crashes nonstop. Fixing:\n",
    "budgetwebsite = pd.read_html(\"allmoviebudgets.html\", header=0, encoding=\"utf-8\")\n",
    "all_budgets = pd.DataFrame(budgetwebsite[0])\n",
    "\n",
    "deaths.to_csv(\"deathscleaned.csv\", encoding='utf-8')"
   ]
  },
  {
   "cell_type": "markdown",
   "metadata": {},
   "source": [
    "Let's scrape all the movie data - EVER - because we are crazy. And also because I'm not interested in paying for access to their database. \n",
    "\n",
    "So what you see below is me scraping all the budgets and domestic box offices for every movie in the alphabetized database. Every letter has a chart with all the movies starting with that letter. I downloaded each webpage from the data source as an HTML webpage then pulled the charts from that, which is less likely to get you banned than hitting up their site with Selenium.\n",
    "\n",
    "I then mashed the charts together into one GIANT dataframe which will be helpful for record linkage. This needs properly cleaned as well."
   ]
  },
  {
   "cell_type": "code",
   "execution_count": 3,
   "metadata": {
    "collapsed": false
   },
   "outputs": [],
   "source": [
    "path = 'movie_pages/' #where the HTML files are\n",
    "listing = os.listdir(path) #read the pages from the directory\n",
    "all_movie_data = pd.DataFrame(columns = ['Release Date', 'Movie', 'Genre', 'ProductionBudget','DomesticBox Officeto Date', 'Trailer'])\n",
    "# empty dataframe waiting for all the goodies\n",
    "\n",
    "for i, infile in enumerate(listing): #iterate through the files in the directory 'path'\n",
    "    temp_list = pd.read_html(\"movie_pages/\"+infile, header=0) #THANK YOU BASED PANDAS. Cleans HTML away and pulls out just the tables.\n",
    "    temp_frame = pd.DataFrame(temp_list[0]) #temp_list is a list of dataframes. Take the first (and only) one\n",
    "    all_movie_data = all_movie_data.append(temp_frame) #append this to the master dataframe \n",
    "    \n",
    "del all_movie_data['Trailer'] #not necessary and screwed up the dropna\n",
    "\n",
    "all_movie_data.rename(columns = {'DomesticBox Officeto Date': 'BoxOffice'}, inplace = True)\n",
    "all_movie_data = all_movie_data.dropna() #drop unneccessary lines with incomplete data"
   ]
  },
  {
   "cell_type": "code",
   "execution_count": 4,
   "metadata": {
    "collapsed": true
   },
   "outputs": [],
   "source": [
    "label_movie_data = all_movie_data #Save this just in case. Might try and do something with the labels, and this has the un-cleaned labels. "
   ]
  },
  {
   "cell_type": "code",
   "execution_count": 83,
   "metadata": {
    "collapsed": false
   },
   "outputs": [
    {
     "name": "stderr",
     "output_type": "stream",
     "text": [
      "/Users/bryanbumgardner/anaconda/lib/python3.5/site-packages/ipykernel/__main__.py:22: FutureWarning: sort(columns=....) is deprecated, use sort_values(by=.....)\n"
     ]
    }
   ],
   "source": [
    "all_movie_data = all_movie_data[all_movie_data.BoxOffice != \"$0\"]\n",
    "all_movie_data = all_movie_data[all_movie_data.ProductionBudget != \"$0\"]\n",
    "# remove all with $0 (I don't know those values got recorded? Negligence on the site, I think.)\n",
    "\n",
    "all_movie_data.to_csv(\"all_movie_data.csv\", encoding='utf-8') #used this to prove that record linkage was needed.\n",
    "# Looked at the data in Excel, and could only quickly match 1/4th of the entries cleanly.\n",
    "\n",
    "#Formatting all the data so it's actually useful and easier to sum, average, and categorize, along with effective timestamps. \n",
    "\n",
    "all_movie_data[\"Movie\"] = all_movie_data[\"Movie\"].str.lower()\n",
    "all_movie_data[\"Movie\"] = all_movie_data[\"Movie\"].str.replace(\".\", '')\n",
    "all_movie_data[\"Movie\"] = all_movie_data[\"Movie\"].str.replace(\",\", '')\n",
    "all_movie_data[\"Movie\"] = all_movie_data[\"Movie\"].str.replace(\")\", '')\n",
    "all_movie_data[\"Movie\"] = all_movie_data[\"Movie\"].str.replace(\"'\", '')\n",
    "all_movie_data[\"Movie\"] = all_movie_data[\"Movie\"].str.replace(\"(\", '')\n",
    "all_movie_data[\"Genre\"] = all_movie_data[\"Genre\"].str.lower()\n",
    "all_movie_data[\"ProductionBudget\"] = all_movie_data[\"ProductionBudget\"].str.strip('$')\n",
    "all_movie_data[\"ProductionBudget\"] = all_movie_data[\"ProductionBudget\"].str.replace(\",\", '')\n",
    "all_movie_data[\"BoxOffice\"] = all_movie_data[\"BoxOffice\"].str.strip('$')\n",
    "all_movie_data[\"BoxOffice\"] = all_movie_data[\"BoxOffice\"].str.replace(\",\", '')\n",
    "all_movie_data[\"Release Date\"] = pd.to_datetime(all_movie_data[\"Release Date\"], format='%b %d, %Y')\n",
    "all_movie_data = all_movie_data.sort(columns=\"Movie\")\n",
    "test_movie_data[\"DeathCount\"] = np.nan"
   ]
  },
  {
   "cell_type": "markdown",
   "metadata": {
    "collapsed": true
   },
   "source": [
    "Ok so I'm really lazy and looked into how well these would match with Excel. Turns out the data is filthy and won't match well at all. There are extreme inconsistencies in movie names from both datasets. So I'll have to do fuzzy matching."
   ]
  },
  {
   "cell_type": "markdown",
   "metadata": {
    "collapsed": false
   },
   "source": [
    "### Step 2. Combine the data using record linkage"
   ]
  },
  {
   "cell_type": "markdown",
   "metadata": {},
   "source": [
    "So the Pandas dataframe-compatible record linkage package, recordlinkage, is turned off right now. I'm still trying to learn how to do this with something called FuzzyWuzzy, which is what you see below.\n",
    "\n",
    "However, I used OpenRefine to connect the datasets outside of Python, then I'm reading it back into here as a CSV. This was much faster but doesn't scale well, so a true Python script is needed long term.\n",
    "\n",
    "I did the quick cleaning by using OpenRefine's built-in matching powers mixed with this great fuzzy string reading service that emphasizes reconciliation:\n",
    "http://okfnlabs.org/reconcile-csv/"
   ]
  },
  {
   "cell_type": "code",
   "execution_count": 81,
   "metadata": {
    "collapsed": false
   },
   "outputs": [],
   "source": [
    "\"\"\"#preparing the target dataframe\n",
    "merged_movie_data = pd.DataFrame(columns = ['Movie', 'ReleaseDate', 'Genre', 'ProductionBudget', 'BoxOffice', 'DeathCount'])\n",
    "test_dataframe = pd.DataFrame(columns = ['name_ratio', 'name_token_sort_ratio', 'name_partial_ratio', 'match'])\n",
    "test_death_count = deaths[:100]\n",
    "test_movie_data = all_movie_data[:100] #gonna see how this works\n",
    "\"\"\"\n",
    "\n",
    "#This is all under construction!!"
   ]
  },
  {
   "cell_type": "code",
   "execution_count": 77,
   "metadata": {
    "collapsed": false
   },
   "outputs": [],
   "source": [
    "\"\"\"for row in test_movie_data.iterrows():\n",
    "    current_movie_name = test_movie_data[\"Movie\"]\n",
    "    \n",
    "    \n",
    "        for row2 in test_death_count.iterrows():\n",
    "            second_movie_name = test_death_count[\"moviename\"]\n",
    "            second_movie_death_count = test_death_count[\"deathcount\"]\n",
    "            \n",
    "            \n",
    "    m = SequenceMatcher(None, current_movie_name, second_movie_name)\n",
    "    if m.ratio() > 96:\n",
    "        test_movie_data[\"DeathCount\"] = test_movie_data[\"DeathCount\"].append(second_movie_death_count)\n",
    "        \n",
    "        test_death_count.iterrows()\n",
    "row = next(test_death_count.iterrows())\n",
    "\n",
    "def send_back_first_title(test_movie_data)\n",
    "    for row in test_movie_data.iterrows():\n",
    "        current_movie_name = test_movie_data[\"Movie\"]\"\"\"\n",
    "\n",
    "# Skip past this! "
   ]
  },
  {
   "cell_type": "code",
   "execution_count": 122,
   "metadata": {
    "collapsed": false
   },
   "outputs": [],
   "source": [
    "final_data_frame = pd.read_csv(\"CombinedData.csv\", encoding=\"latin-1\")"
   ]
  },
  {
   "cell_type": "code",
   "execution_count": 123,
   "metadata": {
    "collapsed": false
   },
   "outputs": [],
   "source": [
    "final_data_frame = final_data_frame.dropna() # In the pairing process, we had some movies with missing values\n",
    "final_data_frame[\"Release\"] = pd.to_datetime(final_data_frame[\"Release\"])\n",
    "final_data_frame = final_data_frame.drop(\"movieskey\", 1) #drop some extra stuff that was only useful during linkage. \n",
    "final_data_frame = final_data_frame.drop(\"identifier\", 1)"
   ]
  },
  {
   "cell_type": "code",
   "execution_count": 126,
   "metadata": {
    "collapsed": false
   },
   "outputs": [
    {
     "data": {
      "text/html": [
       "<div>\n",
       "<table border=\"1\" class=\"dataframe\">\n",
       "  <thead>\n",
       "    <tr style=\"text-align: right;\">\n",
       "      <th></th>\n",
       "      <th>moviename</th>\n",
       "      <th>BoxOffice</th>\n",
       "      <th>ProductionBudget</th>\n",
       "      <th>Genre</th>\n",
       "      <th>Release</th>\n",
       "      <th>deathcount</th>\n",
       "      <th>deathcomment</th>\n",
       "    </tr>\n",
       "  </thead>\n",
       "  <tbody>\n",
       "    <tr>\n",
       "      <th>4</th>\n",
       "      <td>13 going on 30</td>\n",
       "      <td>57139723</td>\n",
       "      <td>30000000</td>\n",
       "      <td>comedy</td>\n",
       "      <td>2004-04-23</td>\n",
       "      <td>0</td>\n",
       "      <td>0</td>\n",
       "    </tr>\n",
       "    <tr>\n",
       "      <th>5</th>\n",
       "      <td>16 blocks</td>\n",
       "      <td>36883539</td>\n",
       "      <td>45000000</td>\n",
       "      <td>action</td>\n",
       "      <td>2006-03-03</td>\n",
       "      <td>2</td>\n",
       "      <td>2</td>\n",
       "    </tr>\n",
       "    <tr>\n",
       "      <th>8</th>\n",
       "      <td>2 guns</td>\n",
       "      <td>75612460</td>\n",
       "      <td>61000000</td>\n",
       "      <td>action</td>\n",
       "      <td>2013-08-02</td>\n",
       "      <td>30</td>\n",
       "      <td>25, 3 chickens and 2 deer</td>\n",
       "    </tr>\n",
       "  </tbody>\n",
       "</table>\n",
       "</div>"
      ],
      "text/plain": [
       "        moviename  BoxOffice  ProductionBudget   Genre    Release  deathcount  \\\n",
       "4  13 going on 30   57139723          30000000  comedy 2004-04-23           0   \n",
       "5       16 blocks   36883539          45000000  action 2006-03-03           2   \n",
       "8          2 guns   75612460          61000000  action 2013-08-02          30   \n",
       "\n",
       "                deathcomment  \n",
       "4                          0  \n",
       "5                          2  \n",
       "8  25, 3 chickens and 2 deer  "
      ]
     },
     "execution_count": 126,
     "metadata": {},
     "output_type": "execute_result"
    }
   ],
   "source": [
    "final_data_frame.head(3) #glad somebody had 30 Going on 30 covered"
   ]
  },
  {
   "cell_type": "markdown",
   "metadata": {},
   "source": [
    "So we have all our stuff and some extra fun comments that will be interesting during visualization. \n",
    "Total: 1128 movies and 7 features. "
   ]
  },
  {
   "cell_type": "markdown",
   "metadata": {},
   "source": [
    "### Step 3: Statistical Analysis\n",
    "Now that we have the data, let's revisit the questions we asked and find the best models to answer them."
   ]
  },
  {
   "cell_type": "markdown",
   "metadata": {},
   "source": [
    "#### Is the amount of on-screen deaths going up in modern movies?   \n",
    "Technique to solve this: create an average of deaths per year in movies."
   ]
  },
  {
   "cell_type": "code",
   "execution_count": 181,
   "metadata": {
    "collapsed": false
   },
   "outputs": [],
   "source": [
    "average_deaths = final_data_frame[[\"Release\", \"deathcount\", \"Genre\"]] #taking Genre for visualization. I have a hunch..."
   ]
  },
  {
   "cell_type": "code",
   "execution_count": 185,
   "metadata": {
    "collapsed": false
   },
   "outputs": [
    {
     "name": "stderr",
     "output_type": "stream",
     "text": [
      "/Users/bryanbumgardner/anaconda/lib/python3.5/site-packages/ipykernel/__main__.py:1: SettingWithCopyWarning: \n",
      "A value is trying to be set on a copy of a slice from a DataFrame.\n",
      "Try using .loc[row_indexer,col_indexer] = value instead\n",
      "\n",
      "See the caveats in the documentation: http://pandas.pydata.org/pandas-docs/stable/indexing.html#indexing-view-versus-copy\n",
      "  if __name__ == '__main__':\n"
     ]
    }
   ],
   "source": [
    "average_deaths[\"Year\"] = average_deaths[\"Release\"].map(lambda x: x.strftime('%Y'))\n",
    "# strip just the year from the datetime object and put it into it's own column\n",
    "# What's with this error? Debug later"
   ]
  },
  {
   "cell_type": "code",
   "execution_count": null,
   "metadata": {
    "collapsed": true
   },
   "outputs": [],
   "source": [
    "# need to bin by year and create averages for the movies that go in the bins "
   ]
  },
  {
   "cell_type": "markdown",
   "metadata": {},
   "source": [
    "#### Does a movie's death count have an effect on that movie's domestic gross?"
   ]
  },
  {
   "cell_type": "code",
   "execution_count": null,
   "metadata": {
    "collapsed": false
   },
   "outputs": [],
   "source": [
    "deaths_vs_gross = final_data_frame[[\"BoxOffice\", \"deathcount\", \"Genre\"]]"
   ]
  },
  {
   "cell_type": "code",
   "execution_count": null,
   "metadata": {
    "collapsed": false
   },
   "outputs": [],
   "source": []
  },
  {
   "cell_type": "code",
   "execution_count": null,
   "metadata": {
    "collapsed": false
   },
   "outputs": [],
   "source": []
  },
  {
   "cell_type": "markdown",
   "metadata": {},
   "source": [
    "### 5. Documentation of the data:"
   ]
  },
  {
   "cell_type": "markdown",
   "metadata": {},
   "source": [
    "Budget and financial data of movies: http://www.the-numbers.com/movie/budgets/all"
   ]
  },
  {
   "cell_type": "code",
   "execution_count": null,
   "metadata": {
    "collapsed": true
   },
   "outputs": [],
   "source": []
  },
  {
   "cell_type": "code",
   "execution_count": null,
   "metadata": {
    "collapsed": true
   },
   "outputs": [],
   "source": []
  }
 ],
 "metadata": {
  "kernelspec": {
   "display_name": "Python 3",
   "language": "python",
   "name": "python3"
  },
  "language_info": {
   "codemirror_mode": {
    "name": "ipython",
    "version": 3
   },
   "file_extension": ".py",
   "mimetype": "text/x-python",
   "name": "python",
   "nbconvert_exporter": "python",
   "pygments_lexer": "ipython3",
   "version": "3.5.1"
  }
 },
 "nbformat": 4,
 "nbformat_minor": 0
}
